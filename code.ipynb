{
 "cells": [
  {
   "cell_type": "code",
   "execution_count": 248,
   "metadata": {},
   "outputs": [],
   "source": [
    "!pip install keras-tuner -q"
   ]
  },
  {
   "cell_type": "code",
   "execution_count": 327,
   "metadata": {},
   "outputs": [],
   "source": [
    "import pandas as pd\n",
    "import numpy as np\n",
    "import matplotlib.pyplot as plt\n",
    "import seaborn as sns\n",
    "sns.set()\n",
    "from sklearn.feature_selection import RFE\n",
    "from sklearn.neural_network import MLPClassifier\n",
    "from sklearn.model_selection import train_test_split, RandomizedSearchCV\n",
    "from sklearn.linear_model import LogisticRegression\n",
    "from sklearn.tree import DecisionTreeClassifier\n",
    "import tensorflow as tf\n",
    "from tensorflow import keras\n",
    "from sklearn.metrics import accuracy_score, confusion_matrix\n",
    "from skopt import BayesSearchCV\n",
    "from skopt.space import Real, Integer, Categorical\n",
    "from keras.models import Sequential\n",
    "from tensorflow.keras.optimizers import Adam, SGD\n",
    "from sklearn.model_selection import cross_val_score\n",
    "from sklearn.model_selection import KFold\n"
   ]
  },
  {
   "cell_type": "code",
   "execution_count": 3,
   "metadata": {},
   "outputs": [],
   "source": [
    "raw_data = pd.read_csv('storedata_1668670608.csv')"
   ]
  },
  {
   "cell_type": "code",
   "execution_count": 4,
   "metadata": {},
   "outputs": [
    {
     "data": {
      "text/html": [
       "<div>\n",
       "<style scoped>\n",
       "    .dataframe tbody tr th:only-of-type {\n",
       "        vertical-align: middle;\n",
       "    }\n",
       "\n",
       "    .dataframe tbody tr th {\n",
       "        vertical-align: top;\n",
       "    }\n",
       "\n",
       "    .dataframe thead th {\n",
       "        text-align: right;\n",
       "    }\n",
       "</style>\n",
       "<table border=\"1\" class=\"dataframe\">\n",
       "  <thead>\n",
       "    <tr style=\"text-align: right;\">\n",
       "      <th></th>\n",
       "      <th>Town</th>\n",
       "      <th>Country</th>\n",
       "      <th>Store ID</th>\n",
       "      <th>Manager name</th>\n",
       "      <th>Staff</th>\n",
       "      <th>Floor Space</th>\n",
       "      <th>Window</th>\n",
       "      <th>Car park</th>\n",
       "      <th>Demographic score</th>\n",
       "      <th>Location</th>\n",
       "      <th>40min population</th>\n",
       "      <th>30 min population</th>\n",
       "      <th>20 min population</th>\n",
       "      <th>10 min population</th>\n",
       "      <th>Store age</th>\n",
       "      <th>Clearance space</th>\n",
       "      <th>Competition number</th>\n",
       "      <th>Competition score</th>\n",
       "      <th>Performance</th>\n",
       "    </tr>\n",
       "  </thead>\n",
       "  <tbody>\n",
       "    <tr>\n",
       "      <th>0</th>\n",
       "      <td>Swinton (Greater Manchester)</td>\n",
       "      <td>UK</td>\n",
       "      <td>1437</td>\n",
       "      <td>Roger</td>\n",
       "      <td>9</td>\n",
       "      <td>18526</td>\n",
       "      <td>121</td>\n",
       "      <td>Yes</td>\n",
       "      <td>10</td>\n",
       "      <td>Retail Park</td>\n",
       "      <td>1288374</td>\n",
       "      <td>1138224</td>\n",
       "      <td>1006986</td>\n",
       "      <td>1002340</td>\n",
       "      <td>3</td>\n",
       "      <td>238</td>\n",
       "      <td>16</td>\n",
       "      <td>16</td>\n",
       "      <td>Good</td>\n",
       "    </tr>\n",
       "    <tr>\n",
       "      <th>1</th>\n",
       "      <td>Stamford</td>\n",
       "      <td>UK</td>\n",
       "      <td>1544</td>\n",
       "      <td>Ella</td>\n",
       "      <td>8</td>\n",
       "      <td>18569</td>\n",
       "      <td>121</td>\n",
       "      <td>Yes</td>\n",
       "      <td>11</td>\n",
       "      <td>Shopping Centre</td>\n",
       "      <td>1086225</td>\n",
       "      <td>1015321</td>\n",
       "      <td>1012182</td>\n",
       "      <td>1008436</td>\n",
       "      <td>4</td>\n",
       "      <td>384</td>\n",
       "      <td>15</td>\n",
       "      <td>19</td>\n",
       "      <td>Good</td>\n",
       "    </tr>\n",
       "    <tr>\n",
       "      <th>2</th>\n",
       "      <td>Skipton</td>\n",
       "      <td>UK</td>\n",
       "      <td>2039</td>\n",
       "      <td>Valentina</td>\n",
       "      <td>-2</td>\n",
       "      <td>12288</td>\n",
       "      <td>105</td>\n",
       "      <td>No</td>\n",
       "      <td>12</td>\n",
       "      <td>Retail Park</td>\n",
       "      <td>1595638</td>\n",
       "      <td>1281661</td>\n",
       "      <td>1104490</td>\n",
       "      <td>1011395</td>\n",
       "      <td>11</td>\n",
       "      <td>219</td>\n",
       "      <td>13</td>\n",
       "      <td>18</td>\n",
       "      <td>Bad</td>\n",
       "    </tr>\n",
       "    <tr>\n",
       "      <th>3</th>\n",
       "      <td>Stratton</td>\n",
       "      <td>UK</td>\n",
       "      <td>2055</td>\n",
       "      <td>Antonia</td>\n",
       "      <td>7</td>\n",
       "      <td>17092</td>\n",
       "      <td>117</td>\n",
       "      <td>No</td>\n",
       "      <td>14</td>\n",
       "      <td>High Street</td>\n",
       "      <td>1179395</td>\n",
       "      <td>1022959</td>\n",
       "      <td>1009496</td>\n",
       "      <td>1002169</td>\n",
       "      <td>5</td>\n",
       "      <td>261</td>\n",
       "      <td>15</td>\n",
       "      <td>12</td>\n",
       "      <td>Bad</td>\n",
       "    </tr>\n",
       "    <tr>\n",
       "      <th>4</th>\n",
       "      <td>Shepperton</td>\n",
       "      <td>UK</td>\n",
       "      <td>2141</td>\n",
       "      <td>Gabriel</td>\n",
       "      <td>7</td>\n",
       "      <td>11307</td>\n",
       "      <td>103</td>\n",
       "      <td>No</td>\n",
       "      <td>18</td>\n",
       "      <td>Retail Park</td>\n",
       "      <td>1398558</td>\n",
       "      <td>1085170</td>\n",
       "      <td>1003137</td>\n",
       "      <td>1002513</td>\n",
       "      <td>7</td>\n",
       "      <td>200</td>\n",
       "      <td>19</td>\n",
       "      <td>13</td>\n",
       "      <td>Bad</td>\n",
       "    </tr>\n",
       "  </tbody>\n",
       "</table>\n",
       "</div>"
      ],
      "text/plain": [
       "                            Town Country  Store ID Manager name  Staff  \\\n",
       "0   Swinton (Greater Manchester)      UK      1437        Roger      9   \n",
       "1                       Stamford      UK      1544         Ella      8   \n",
       "2                        Skipton      UK      2039    Valentina     -2   \n",
       "3                       Stratton      UK      2055      Antonia      7   \n",
       "4                     Shepperton      UK      2141      Gabriel      7   \n",
       "\n",
       "   Floor Space  Window Car park  Demographic score         Location  \\\n",
       "0        18526     121      Yes                 10      Retail Park   \n",
       "1        18569     121      Yes                 11  Shopping Centre   \n",
       "2        12288     105       No                 12      Retail Park   \n",
       "3        17092     117       No                 14      High Street   \n",
       "4        11307     103       No                 18      Retail Park   \n",
       "\n",
       "   40min population  30 min population  20 min population  10 min population  \\\n",
       "0           1288374            1138224            1006986            1002340   \n",
       "1           1086225            1015321            1012182            1008436   \n",
       "2           1595638            1281661            1104490            1011395   \n",
       "3           1179395            1022959            1009496            1002169   \n",
       "4           1398558            1085170            1003137            1002513   \n",
       "\n",
       "   Store age  Clearance space  Competition number  Competition score  \\\n",
       "0          3              238                  16                 16   \n",
       "1          4              384                  15                 19   \n",
       "2         11              219                  13                 18   \n",
       "3          5              261                  15                 12   \n",
       "4          7              200                  19                 13   \n",
       "\n",
       "  Performance  \n",
       "0        Good  \n",
       "1        Good  \n",
       "2         Bad  \n",
       "3         Bad  \n",
       "4         Bad  "
      ]
     },
     "execution_count": 4,
     "metadata": {},
     "output_type": "execute_result"
    }
   ],
   "source": [
    "raw_data.head()"
   ]
  },
  {
   "cell_type": "code",
   "execution_count": 214,
   "metadata": {},
   "outputs": [],
   "source": [
    "data = raw_data.drop(['Manager name'], axis = 1)"
   ]
  },
  {
   "cell_type": "code",
   "execution_count": 6,
   "metadata": {},
   "outputs": [
    {
     "data": {
      "text/html": [
       "<div>\n",
       "<style scoped>\n",
       "    .dataframe tbody tr th:only-of-type {\n",
       "        vertical-align: middle;\n",
       "    }\n",
       "\n",
       "    .dataframe tbody tr th {\n",
       "        vertical-align: top;\n",
       "    }\n",
       "\n",
       "    .dataframe thead th {\n",
       "        text-align: right;\n",
       "    }\n",
       "</style>\n",
       "<table border=\"1\" class=\"dataframe\">\n",
       "  <thead>\n",
       "    <tr style=\"text-align: right;\">\n",
       "      <th></th>\n",
       "      <th>Town</th>\n",
       "      <th>Country</th>\n",
       "      <th>Store ID</th>\n",
       "      <th>Staff</th>\n",
       "      <th>Floor Space</th>\n",
       "      <th>Window</th>\n",
       "      <th>Car park</th>\n",
       "      <th>Demographic score</th>\n",
       "      <th>Location</th>\n",
       "      <th>40min population</th>\n",
       "      <th>30 min population</th>\n",
       "      <th>20 min population</th>\n",
       "      <th>10 min population</th>\n",
       "      <th>Store age</th>\n",
       "      <th>Clearance space</th>\n",
       "      <th>Competition number</th>\n",
       "      <th>Competition score</th>\n",
       "      <th>Performance</th>\n",
       "    </tr>\n",
       "  </thead>\n",
       "  <tbody>\n",
       "    <tr>\n",
       "      <th>0</th>\n",
       "      <td>Swinton (Greater Manchester)</td>\n",
       "      <td>UK</td>\n",
       "      <td>1437</td>\n",
       "      <td>9</td>\n",
       "      <td>18526</td>\n",
       "      <td>121</td>\n",
       "      <td>Yes</td>\n",
       "      <td>10</td>\n",
       "      <td>Retail Park</td>\n",
       "      <td>1288374</td>\n",
       "      <td>1138224</td>\n",
       "      <td>1006986</td>\n",
       "      <td>1002340</td>\n",
       "      <td>3</td>\n",
       "      <td>238</td>\n",
       "      <td>16</td>\n",
       "      <td>16</td>\n",
       "      <td>Good</td>\n",
       "    </tr>\n",
       "    <tr>\n",
       "      <th>1</th>\n",
       "      <td>Stamford</td>\n",
       "      <td>UK</td>\n",
       "      <td>1544</td>\n",
       "      <td>8</td>\n",
       "      <td>18569</td>\n",
       "      <td>121</td>\n",
       "      <td>Yes</td>\n",
       "      <td>11</td>\n",
       "      <td>Shopping Centre</td>\n",
       "      <td>1086225</td>\n",
       "      <td>1015321</td>\n",
       "      <td>1012182</td>\n",
       "      <td>1008436</td>\n",
       "      <td>4</td>\n",
       "      <td>384</td>\n",
       "      <td>15</td>\n",
       "      <td>19</td>\n",
       "      <td>Good</td>\n",
       "    </tr>\n",
       "    <tr>\n",
       "      <th>2</th>\n",
       "      <td>Skipton</td>\n",
       "      <td>UK</td>\n",
       "      <td>2039</td>\n",
       "      <td>-2</td>\n",
       "      <td>12288</td>\n",
       "      <td>105</td>\n",
       "      <td>No</td>\n",
       "      <td>12</td>\n",
       "      <td>Retail Park</td>\n",
       "      <td>1595638</td>\n",
       "      <td>1281661</td>\n",
       "      <td>1104490</td>\n",
       "      <td>1011395</td>\n",
       "      <td>11</td>\n",
       "      <td>219</td>\n",
       "      <td>13</td>\n",
       "      <td>18</td>\n",
       "      <td>Bad</td>\n",
       "    </tr>\n",
       "    <tr>\n",
       "      <th>3</th>\n",
       "      <td>Stratton</td>\n",
       "      <td>UK</td>\n",
       "      <td>2055</td>\n",
       "      <td>7</td>\n",
       "      <td>17092</td>\n",
       "      <td>117</td>\n",
       "      <td>No</td>\n",
       "      <td>14</td>\n",
       "      <td>High Street</td>\n",
       "      <td>1179395</td>\n",
       "      <td>1022959</td>\n",
       "      <td>1009496</td>\n",
       "      <td>1002169</td>\n",
       "      <td>5</td>\n",
       "      <td>261</td>\n",
       "      <td>15</td>\n",
       "      <td>12</td>\n",
       "      <td>Bad</td>\n",
       "    </tr>\n",
       "    <tr>\n",
       "      <th>4</th>\n",
       "      <td>Shepperton</td>\n",
       "      <td>UK</td>\n",
       "      <td>2141</td>\n",
       "      <td>7</td>\n",
       "      <td>11307</td>\n",
       "      <td>103</td>\n",
       "      <td>No</td>\n",
       "      <td>18</td>\n",
       "      <td>Retail Park</td>\n",
       "      <td>1398558</td>\n",
       "      <td>1085170</td>\n",
       "      <td>1003137</td>\n",
       "      <td>1002513</td>\n",
       "      <td>7</td>\n",
       "      <td>200</td>\n",
       "      <td>19</td>\n",
       "      <td>13</td>\n",
       "      <td>Bad</td>\n",
       "    </tr>\n",
       "  </tbody>\n",
       "</table>\n",
       "</div>"
      ],
      "text/plain": [
       "                            Town Country  Store ID  Staff  Floor Space  \\\n",
       "0   Swinton (Greater Manchester)      UK      1437      9        18526   \n",
       "1                       Stamford      UK      1544      8        18569   \n",
       "2                        Skipton      UK      2039     -2        12288   \n",
       "3                       Stratton      UK      2055      7        17092   \n",
       "4                     Shepperton      UK      2141      7        11307   \n",
       "\n",
       "   Window Car park  Demographic score         Location  40min population  \\\n",
       "0     121      Yes                 10      Retail Park           1288374   \n",
       "1     121      Yes                 11  Shopping Centre           1086225   \n",
       "2     105       No                 12      Retail Park           1595638   \n",
       "3     117       No                 14      High Street           1179395   \n",
       "4     103       No                 18      Retail Park           1398558   \n",
       "\n",
       "   30 min population  20 min population  10 min population  Store age  \\\n",
       "0            1138224            1006986            1002340          3   \n",
       "1            1015321            1012182            1008436          4   \n",
       "2            1281661            1104490            1011395         11   \n",
       "3            1022959            1009496            1002169          5   \n",
       "4            1085170            1003137            1002513          7   \n",
       "\n",
       "   Clearance space  Competition number  Competition score Performance  \n",
       "0              238                  16                 16        Good  \n",
       "1              384                  15                 19        Good  \n",
       "2              219                  13                 18         Bad  \n",
       "3              261                  15                 12         Bad  \n",
       "4              200                  19                 13         Bad  "
      ]
     },
     "execution_count": 6,
     "metadata": {},
     "output_type": "execute_result"
    }
   ],
   "source": [
    "data.head()"
   ]
  },
  {
   "cell_type": "code",
   "execution_count": 356,
   "metadata": {},
   "outputs": [],
   "source": [
    "data = raw_data.drop(['Town'], axis = 1)\n"
   ]
  },
  {
   "cell_type": "code",
   "execution_count": 357,
   "metadata": {},
   "outputs": [],
   "source": [
    "data = data.drop(['Manager name'], axis = 1)\n"
   ]
  },
  {
   "cell_type": "code",
   "execution_count": 358,
   "metadata": {},
   "outputs": [],
   "source": [
    "data['Country'] = data['Country'].map({\"France\":0, \"UK\":1})"
   ]
  },
  {
   "cell_type": "code",
   "execution_count": 359,
   "metadata": {},
   "outputs": [],
   "source": [
    "\n",
    "data['Car park'] = data['Car park'].map({\"No\":0, \"Yes\":1})\n"
   ]
  },
  {
   "cell_type": "code",
   "execution_count": 360,
   "metadata": {},
   "outputs": [],
   "source": [
    "data['Performance'] = data['Performance'].map({\"Bad\":0, \"Good\":1})\n"
   ]
  },
  {
   "cell_type": "code",
   "execution_count": 361,
   "metadata": {},
   "outputs": [],
   "source": [
    "data['Location'] = data['Location'].map({\"High Street\":0, \"Retail Park\":1, \"Shopping Centre\":2, \"Village\":3})\n"
   ]
  },
  {
   "cell_type": "code",
   "execution_count": 362,
   "metadata": {},
   "outputs": [],
   "source": [
    "data.loc[data['Country'] == 0, 'Country'] = 1\n"
   ]
  },
  {
   "cell_type": "code",
   "execution_count": 363,
   "metadata": {},
   "outputs": [
    {
     "name": "stderr",
     "output_type": "stream",
     "text": [
      "C:\\Users\\Aazhmeer Chhapra\\AppData\\Local\\Temp\\ipykernel_32212\\365871640.py:1: UserWarning: \n",
      "\n",
      "`distplot` is a deprecated function and will be removed in seaborn v0.14.0.\n",
      "\n",
      "Please adapt your code to use either `displot` (a figure-level function with\n",
      "similar flexibility) or `histplot` (an axes-level function for histograms).\n",
      "\n",
      "For a guide to updating your code to use the new functions, please see\n",
      "https://gist.github.com/mwaskom/de44147ed2974457ad6372750bbe5751\n",
      "\n",
      "  sns.distplot(data['Staff'], color = \"green\")\n"
     ]
    },
    {
     "data": {
      "text/plain": [
       "<Axes: xlabel='Staff', ylabel='Density'>"
      ]
     },
     "execution_count": 363,
     "metadata": {},
     "output_type": "execute_result"
    },
    {
     "data": {
      "image/png": "[encoded data removed]",
      "text/plain": [
       "<Figure size 640x480 with 1 Axes>"
      ]
     },
     "metadata": {},
     "output_type": "display_data"
    }
   ],
   "source": [
    "sns.distplot(data['Staff'], color = \"green\")"
   ]
  },
  {
   "cell_type": "code",
   "execution_count": 364,
   "metadata": {},
   "outputs": [],
   "source": [
    "data['Staff'] = data['Staff'].abs()\n"
   ]
  },
  {
   "cell_type": "code",
   "execution_count": 365,
   "metadata": {},
   "outputs": [
    {
     "data": {
      "text/plain": [
       "Index(['Country', 'Store ID', 'Staff', 'Floor Space', 'Window', 'Car park',\n",
       "       'Demographic score', 'Location', '40min population',\n",
       "       '30 min population', '20 min population', '10 min population',\n",
       "       'Store age', 'Clearance space', 'Competition number',\n",
       "       'Competition score', 'Performance'],\n",
       "      dtype='object')"
      ]
     },
     "execution_count": 365,
     "metadata": {},
     "output_type": "execute_result"
    }
   ],
   "source": [
    "data.columns"
   ]
  },
  {
   "cell_type": "code",
   "execution_count": 144,
   "metadata": {},
   "outputs": [
    {
     "name": "stderr",
     "output_type": "stream",
     "text": [
      "C:\\Users\\Aazhmeer Chhapra\\AppData\\Local\\Temp\\ipykernel_32212\\365871640.py:1: UserWarning: \n",
      "\n",
      "`distplot` is a deprecated function and will be removed in seaborn v0.14.0.\n",
      "\n",
      "Please adapt your code to use either `displot` (a figure-level function with\n",
      "similar flexibility) or `histplot` (an axes-level function for histograms).\n",
      "\n",
      "For a guide to updating your code to use the new functions, please see\n",
      "https://gist.github.com/mwaskom/de44147ed2974457ad6372750bbe5751\n",
      "\n",
      "  sns.distplot(data['Staff'], color = \"green\")\n"
     ]
    },
    {
     "data": {
      "text/plain": [
       "<Axes: xlabel='Staff', ylabel='Density'>"
      ]
     },
     "execution_count": 144,
     "metadata": {},
     "output_type": "execute_result"
    },
    {
     "data": {
      "image/png": "[encoded data removed]",
      "text/plain": [
       "<Figure size 640x480 with 1 Axes>"
      ]
     },
     "metadata": {},
     "output_type": "display_data"
    }
   ],
   "source": [
    "sns.distplot(data['Staff'], color = \"green\")"
   ]
  },
  {
   "cell_type": "code",
   "execution_count": 145,
   "metadata": {},
   "outputs": [
    {
     "data": {
      "text/plain": [
       "0      9\n",
       "1      8\n",
       "2      2\n",
       "3      7\n",
       "4      7\n",
       "      ..\n",
       "131    7\n",
       "132    6\n",
       "133    7\n",
       "134    6\n",
       "135    9\n",
       "Name: Staff, Length: 136, dtype: int64"
      ]
     },
     "execution_count": 145,
     "metadata": {},
     "output_type": "execute_result"
    }
   ],
   "source": [
    "data['Staff']"
   ]
  },
  {
   "cell_type": "code",
   "execution_count": 376,
   "metadata": {},
   "outputs": [
    {
     "data": {
      "text/plain": [
       "Country               0\n",
       "Store ID              0\n",
       "Staff                 0\n",
       "Floor Space           0\n",
       "Window                0\n",
       "Car park              0\n",
       "Demographic score     0\n",
       "Location              0\n",
       "40min population      0\n",
       "30 min population     0\n",
       "20 min population     0\n",
       "10 min population     0\n",
       "Store age             0\n",
       "Clearance space       0\n",
       "Competition number    0\n",
       "Competition score     0\n",
       "Performance           0\n",
       "dtype: int64"
      ]
     },
     "execution_count": 376,
     "metadata": {},
     "output_type": "execute_result"
    }
   ],
   "source": [
    "data.isnull().sum()"
   ]
  },
  {
   "cell_type": "code",
   "execution_count": 367,
   "metadata": {},
   "outputs": [],
   "source": [
    "data = data.dropna(axis =0)\n"
   ]
  },
  {
   "cell_type": "code",
   "execution_count": 122,
   "metadata": {},
   "outputs": [
    {
     "name": "stderr",
     "output_type": "stream",
     "text": [
      "C:\\Users\\Aazhmeer Chhapra\\AppData\\Local\\Temp\\ipykernel_32212\\1036932785.py:1: UserWarning: \n",
      "\n",
      "`distplot` is a deprecated function and will be removed in seaborn v0.14.0.\n",
      "\n",
      "Please adapt your code to use either `displot` (a figure-level function with\n",
      "similar flexibility) or `histplot` (an axes-level function for histograms).\n",
      "\n",
      "For a guide to updating your code to use the new functions, please see\n",
      "https://gist.github.com/mwaskom/de44147ed2974457ad6372750bbe5751\n",
      "\n",
      "  sns.distplot(data['Country'], color=\"red\")\n",
      "d:\\Anaconda\\envs\\tf_gpucheck\\lib\\site-packages\\seaborn\\distributions.py:2511: UserWarning: Dataset has 0 variance; skipping density estimate. Pass `warn_singular=False` to disable this warning.\n",
      "  kdeplot(**{axis: a}, ax=ax, color=kde_color, **kde_kws)\n"
     ]
    },
    {
     "data": {
      "text/plain": [
       "<Axes: xlabel='Country', ylabel='Density'>"
      ]
     },
     "execution_count": 122,
     "metadata": {},
     "output_type": "execute_result"
    },
    {
     "data": {
      "image/png": "[encoded data removed]",
      "text/plain": [
       "<Figure size 640x480 with 1 Axes>"
      ]
     },
     "metadata": {},
     "output_type": "display_data"
    }
   ],
   "source": [
    "sns.distplot(data['Country'], color=\"red\")"
   ]
  },
  {
   "cell_type": "code",
   "execution_count": 18,
   "metadata": {},
   "outputs": [
    {
     "data": {
      "text/plain": [
       "Country               0\n",
       "Store ID              0\n",
       "Staff                 0\n",
       "Floor Space           0\n",
       "Window                0\n",
       "Car park              7\n",
       "Demographic score     0\n",
       "Location              0\n",
       "40min population      0\n",
       "30 min population     0\n",
       "20 min population     0\n",
       "10 min population     0\n",
       "Store age             0\n",
       "Clearance space       0\n",
       "Competition number    0\n",
       "Competition score     0\n",
       "Performance           0\n",
       "dtype: int64"
      ]
     },
     "execution_count": 18,
     "metadata": {},
     "output_type": "execute_result"
    }
   ],
   "source": []
  },
  {
   "cell_type": "code",
   "execution_count": 161,
   "metadata": {},
   "outputs": [
    {
     "data": {
      "text/plain": [
       "Index(['Country', 'Store ID', 'Staff', 'Floor Space', 'Window', 'Car park',\n",
       "       'Demographic score', 'Location', '40min population',\n",
       "       '30 min population', '20 min population', '10 min population',\n",
       "       'Store age', 'Clearance space', 'Competition number',\n",
       "       'Competition score', 'Performance'],\n",
       "      dtype='object')"
      ]
     },
     "execution_count": 161,
     "metadata": {},
     "output_type": "execute_result"
    }
   ],
   "source": [
    "data.columns"
   ]
  },
  {
   "cell_type": "code",
   "execution_count": 21,
   "metadata": {},
   "outputs": [
    {
     "name": "stderr",
     "output_type": "stream",
     "text": [
      "C:\\Users\\Aazhmeer Chhapra\\AppData\\Local\\Temp\\ipykernel_32212\\2727342760.py:1: UserWarning: \n",
      "\n",
      "`distplot` is a deprecated function and will be removed in seaborn v0.14.0.\n",
      "\n",
      "Please adapt your code to use either `displot` (a figure-level function with\n",
      "similar flexibility) or `histplot` (an axes-level function for histograms).\n",
      "\n",
      "For a guide to updating your code to use the new functions, please see\n",
      "https://gist.github.com/mwaskom/de44147ed2974457ad6372750bbe5751\n",
      "\n",
      "  sns.distplot(data['40min population'])\n"
     ]
    },
    {
     "data": {
      "text/plain": [
       "<Axes: xlabel='40min population', ylabel='Density'>"
      ]
     },
     "execution_count": 21,
     "metadata": {},
     "output_type": "execute_result"
    },
    {
     "data": {
      "image/png": "[encoded data removed]",
      "text/plain": [
       "<Figure size 640x480 with 1 Axes>"
      ]
     },
     "metadata": {},
     "output_type": "display_data"
    }
   ],
   "source": [
    "sns.distplot(data['40min population'])"
   ]
  },
  {
   "cell_type": "code",
   "execution_count": 179,
   "metadata": {},
   "outputs": [
    {
     "data": {
      "text/plain": [
       "0      1\n",
       "1      1\n",
       "2      0\n",
       "3      0\n",
       "4      0\n",
       "      ..\n",
       "131    0\n",
       "132    0\n",
       "133    0\n",
       "134    0\n",
       "135    1\n",
       "Name: Performance, Length: 129, dtype: int64"
      ]
     },
     "execution_count": 179,
     "metadata": {},
     "output_type": "execute_result"
    }
   ],
   "source": [
    "targets"
   ]
  },
  {
   "cell_type": "code",
   "execution_count": 368,
   "metadata": {},
   "outputs": [],
   "source": [
    "inputs = data.drop(['Performance'], axis = 1)\n",
    "targets = data['Performance']"
   ]
  },
  {
   "cell_type": "code",
   "execution_count": 375,
   "metadata": {},
   "outputs": [],
   "source": [
    "x_train, x_test, y_train, y_test = train_test_split(inputs, targets, test_size = 0.33,random_state = 0)"
   ]
  },
  {
   "cell_type": "code",
   "execution_count": 181,
   "metadata": {},
   "outputs": [],
   "source": [
    "search_space = {'penalty': Categorical(['l1', 'l2']),\n",
    "                'C': Real(0.1, 10, prior='log-uniform'),\n",
    "                'solver': Categorical(['liblinear','saga']),\n",
    "                'max_iter': Integer(50, 1000)}"
   ]
  },
  {
   "cell_type": "code",
   "execution_count": 182,
   "metadata": {},
   "outputs": [],
   "source": [
    "lr = LogisticRegression()\n"
   ]
  },
  {
   "cell_type": "code",
   "execution_count": 183,
   "metadata": {},
   "outputs": [],
   "source": [
    "bayes_cv = BayesSearchCV(lr, search_space, cv=10, n_iter=100, n_jobs=-1)"
   ]
  },
  {
   "cell_type": "code",
   "execution_count": 184,
   "metadata": {},
   "outputs": [
    {
     "name": "stderr",
     "output_type": "stream",
     "text": [
      "d:\\Anaconda\\envs\\tf_gpucheck\\lib\\site-packages\\skopt\\optimizer\\optimizer.py:449: UserWarning: The objective has been evaluated at this point before.\n",
      "  warnings.warn(\"The objective has been evaluated \"\n"
     ]
    },
    {
     "data": {
      "text/html": [
       "<style>#sk-container-id-14 {color: black;background-color: white;}#sk-container-id-14 pre{padding: 0;}#sk-container-id-14 div.sk-toggleable {background-color: white;}#sk-container-id-14 label.sk-toggleable__label {cursor: pointer;display: block;width: 100%;margin-bottom: 0;padding: 0.3em;box-sizing: border-box;text-align: center;}#sk-container-id-14 label.sk-toggleable__label-arrow:before {content: \"▸\";float: left;margin-right: 0.25em;color: #696969;}#sk-container-id-14 label.sk-toggleable__label-arrow:hover:before {color: black;}#sk-container-id-14 div.sk-estimator:hover label.sk-toggleable__label-arrow:before {color: black;}#sk-container-id-14 div.sk-toggleable__content {max-height: 0;max-width: 0;overflow: hidden;text-align: left;background-color: #f0f8ff;}#sk-container-id-14 div.sk-toggleable__content pre {margin: 0.2em;color: black;border-radius: 0.25em;background-color: #f0f8ff;}#sk-container-id-14 input.sk-toggleable__control:checked~div.sk-toggleable__content {max-height: 200px;max-width: 100%;overflow: auto;}#sk-container-id-14 input.sk-toggleable__control:checked~label.sk-toggleable__label-arrow:before {content: \"▾\";}#sk-container-id-14 div.sk-estimator input.sk-toggleable__control:checked~label.sk-toggleable__label {background-color: #d4ebff;}#sk-container-id-14 div.sk-label input.sk-toggleable__control:checked~label.sk-toggleable__label {background-color: #d4ebff;}#sk-container-id-14 input.sk-hidden--visually {border: 0;clip: rect(1px 1px 1px 1px);clip: rect(1px, 1px, 1px, 1px);height: 1px;margin: -1px;overflow: hidden;padding: 0;position: absolute;width: 1px;}#sk-container-id-14 div.sk-estimator {font-family: monospace;background-color: #f0f8ff;border: 1px dotted black;border-radius: 0.25em;box-sizing: border-box;margin-bottom: 0.5em;}#sk-container-id-14 div.sk-estimator:hover {background-color: #d4ebff;}#sk-container-id-14 div.sk-parallel-item::after {content: \"\";width: 100%;border-bottom: 1px solid gray;flex-grow: 1;}#sk-container-id-14 div.sk-label:hover label.sk-toggleable__label {background-color: #d4ebff;}#sk-container-id-14 div.sk-serial::before {content: \"\";position: absolute;border-left: 1px solid gray;box-sizing: border-box;top: 0;bottom: 0;left: 50%;z-index: 0;}#sk-container-id-14 div.sk-serial {display: flex;flex-direction: column;align-items: center;background-color: white;padding-right: 0.2em;padding-left: 0.2em;position: relative;}#sk-container-id-14 div.sk-item {position: relative;z-index: 1;}#sk-container-id-14 div.sk-parallel {display: flex;align-items: stretch;justify-content: center;background-color: white;position: relative;}#sk-container-id-14 div.sk-item::before, #sk-container-id-14 div.sk-parallel-item::before {content: \"\";position: absolute;border-left: 1px solid gray;box-sizing: border-box;top: 0;bottom: 0;left: 50%;z-index: -1;}#sk-container-id-14 div.sk-parallel-item {display: flex;flex-direction: column;z-index: 1;position: relative;background-color: white;}#sk-container-id-14 div.sk-parallel-item:first-child::after {align-self: flex-end;width: 50%;}#sk-container-id-14 div.sk-parallel-item:last-child::after {align-self: flex-start;width: 50%;}#sk-container-id-14 div.sk-parallel-item:only-child::after {width: 0;}#sk-container-id-14 div.sk-dashed-wrapped {border: 1px dashed gray;margin: 0 0.4em 0.5em 0.4em;box-sizing: border-box;padding-bottom: 0.4em;background-color: white;}#sk-container-id-14 div.sk-label label {font-family: monospace;font-weight: bold;display: inline-block;line-height: 1.2em;}#sk-container-id-14 div.sk-label-container {text-align: center;}#sk-container-id-14 div.sk-container {/* jupyter's `normalize.less` sets `[hidden] { display: none; }` but bootstrap.min.css set `[hidden] { display: none !important; }` so we also need the `!important` here to be able to override the default hidden behavior on the sphinx rendered scikit-learn.org. See: https://github.com/scikit-learn/scikit-learn/issues/21755 */display: inline-block !important;position: relative;}#sk-container-id-14 div.sk-text-repr-fallback {display: none;}</style><div id=\"sk-container-id-14\" class=\"sk-top-container\"><div class=\"sk-text-repr-fallback\"><pre>BayesSearchCV(cv=10, estimator=LogisticRegression(), n_iter=100, n_jobs=-1,\n",
       "              search_spaces={&#x27;C&#x27;: Real(low=0.1, high=10, prior=&#x27;log-uniform&#x27;, transform=&#x27;normalize&#x27;),\n",
       "                             &#x27;max_iter&#x27;: Integer(low=50, high=1000, prior=&#x27;uniform&#x27;, transform=&#x27;normalize&#x27;),\n",
       "                             &#x27;penalty&#x27;: Categorical(categories=(&#x27;l1&#x27;, &#x27;l2&#x27;), prior=None),\n",
       "                             &#x27;solver&#x27;: Categorical(categories=(&#x27;liblinear&#x27;, &#x27;saga&#x27;), prior=None)})</pre><b>In a Jupyter environment, please rerun this cell to show the HTML representation or trust the notebook. <br />On GitHub, the HTML representation is unable to render, please try loading this page with nbviewer.org.</b></div><div class=\"sk-container\" hidden><div class=\"sk-item sk-dashed-wrapped\"><div class=\"sk-label-container\"><div class=\"sk-label sk-toggleable\"><input class=\"sk-toggleable__control sk-hidden--visually\" id=\"sk-estimator-id-36\" type=\"checkbox\" ><label for=\"sk-estimator-id-36\" class=\"sk-toggleable__label sk-toggleable__label-arrow\">BayesSearchCV</label><div class=\"sk-toggleable__content\"><pre>BayesSearchCV(cv=10, estimator=LogisticRegression(), n_iter=100, n_jobs=-1,\n",
       "              search_spaces={&#x27;C&#x27;: Real(low=0.1, high=10, prior=&#x27;log-uniform&#x27;, transform=&#x27;normalize&#x27;),\n",
       "                             &#x27;max_iter&#x27;: Integer(low=50, high=1000, prior=&#x27;uniform&#x27;, transform=&#x27;normalize&#x27;),\n",
       "                             &#x27;penalty&#x27;: Categorical(categories=(&#x27;l1&#x27;, &#x27;l2&#x27;), prior=None),\n",
       "                             &#x27;solver&#x27;: Categorical(categories=(&#x27;liblinear&#x27;, &#x27;saga&#x27;), prior=None)})</pre></div></div></div><div class=\"sk-parallel\"><div class=\"sk-parallel-item\"><div class=\"sk-item\"><div class=\"sk-label-container\"><div class=\"sk-label sk-toggleable\"><input class=\"sk-toggleable__control sk-hidden--visually\" id=\"sk-estimator-id-37\" type=\"checkbox\" ><label for=\"sk-estimator-id-37\" class=\"sk-toggleable__label sk-toggleable__label-arrow\">estimator: LogisticRegression</label><div class=\"sk-toggleable__content\"><pre>LogisticRegression()</pre></div></div></div><div class=\"sk-serial\"><div class=\"sk-item\"><div class=\"sk-estimator sk-toggleable\"><input class=\"sk-toggleable__control sk-hidden--visually\" id=\"sk-estimator-id-38\" type=\"checkbox\" ><label for=\"sk-estimator-id-38\" class=\"sk-toggleable__label sk-toggleable__label-arrow\">LogisticRegression</label><div class=\"sk-toggleable__content\"><pre>LogisticRegression()</pre></div></div></div></div></div></div></div></div></div></div>"
      ],
      "text/plain": [
       "BayesSearchCV(cv=10, estimator=LogisticRegression(), n_iter=100, n_jobs=-1,\n",
       "              search_spaces={'C': Real(low=0.1, high=10, prior='log-uniform', transform='normalize'),\n",
       "                             'max_iter': Integer(low=50, high=1000, prior='uniform', transform='normalize'),\n",
       "                             'penalty': Categorical(categories=('l1', 'l2'), prior=None),\n",
       "                             'solver': Categorical(categories=('liblinear', 'saga'), prior=None)})"
      ]
     },
     "execution_count": 184,
     "metadata": {},
     "output_type": "execute_result"
    }
   ],
   "source": [
    "bayes_cv.fit(x_train, y_train)"
   ]
  },
  {
   "cell_type": "code",
   "execution_count": 185,
   "metadata": {},
   "outputs": [],
   "source": [
    "y_pred = bayes_cv.predict(x_test)"
   ]
  },
  {
   "cell_type": "code",
   "execution_count": 186,
   "metadata": {},
   "outputs": [],
   "source": [
    "score = accuracy_score(y_test, y_pred)"
   ]
  },
  {
   "cell_type": "code",
   "execution_count": 187,
   "metadata": {},
   "outputs": [
    {
     "name": "stdout",
     "output_type": "stream",
     "text": [
      "Best hyperparameters: OrderedDict([('C', 3.250095571636255), ('max_iter', 790), ('penalty', 'l1'), ('solver', 'liblinear')])\n"
     ]
    }
   ],
   "source": [
    "print('Best hyperparameters:', bayes_cv.best_params_)"
   ]
  },
  {
   "cell_type": "code",
   "execution_count": 188,
   "metadata": {},
   "outputs": [
    {
     "name": "stdout",
     "output_type": "stream",
     "text": [
      "Accuracy score: 0.8076923076923077\n"
     ]
    }
   ],
   "source": [
    "print('Accuracy score:', score)"
   ]
  },
  {
   "cell_type": "code",
   "execution_count": 189,
   "metadata": {},
   "outputs": [
    {
     "name": "stdout",
     "output_type": "stream",
     "text": [
      "[[ 8  3]\n",
      " [ 2 13]]\n"
     ]
    }
   ],
   "source": [
    "# compute the confusion matrix\n",
    "conf_matrix = confusion_matrix(y_test, y_pred)\n",
    "\n",
    "# print the confusion matrix\n",
    "print(conf_matrix)"
   ]
  },
  {
   "cell_type": "code",
   "execution_count": 79,
   "metadata": {},
   "outputs": [],
   "source": [
    "logr = LogisticRegression(C= 2.078156726099516, max_iter =50,penalty = \"l1\" , solver =\"saga\")\n"
   ]
  },
  {
   "cell_type": "code",
   "execution_count": 80,
   "metadata": {},
   "outputs": [
    {
     "name": "stderr",
     "output_type": "stream",
     "text": [
      "d:\\Anaconda\\envs\\tf_gpucheck\\lib\\site-packages\\sklearn\\linear_model\\_sag.py:350: ConvergenceWarning: The max_iter was reached which means the coef_ did not converge\n",
      "  warnings.warn(\n"
     ]
    },
    {
     "data": {
      "text/html": [
       "<style>#sk-container-id-9 {color: black;background-color: white;}#sk-container-id-9 pre{padding: 0;}#sk-container-id-9 div.sk-toggleable {background-color: white;}#sk-container-id-9 label.sk-toggleable__label {cursor: pointer;display: block;width: 100%;margin-bottom: 0;padding: 0.3em;box-sizing: border-box;text-align: center;}#sk-container-id-9 label.sk-toggleable__label-arrow:before {content: \"▸\";float: left;margin-right: 0.25em;color: #696969;}#sk-container-id-9 label.sk-toggleable__label-arrow:hover:before {color: black;}#sk-container-id-9 div.sk-estimator:hover label.sk-toggleable__label-arrow:before {color: black;}#sk-container-id-9 div.sk-toggleable__content {max-height: 0;max-width: 0;overflow: hidden;text-align: left;background-color: #f0f8ff;}#sk-container-id-9 div.sk-toggleable__content pre {margin: 0.2em;color: black;border-radius: 0.25em;background-color: #f0f8ff;}#sk-container-id-9 input.sk-toggleable__control:checked~div.sk-toggleable__content {max-height: 200px;max-width: 100%;overflow: auto;}#sk-container-id-9 input.sk-toggleable__control:checked~label.sk-toggleable__label-arrow:before {content: \"▾\";}#sk-container-id-9 div.sk-estimator input.sk-toggleable__control:checked~label.sk-toggleable__label {background-color: #d4ebff;}#sk-container-id-9 div.sk-label input.sk-toggleable__control:checked~label.sk-toggleable__label {background-color: #d4ebff;}#sk-container-id-9 input.sk-hidden--visually {border: 0;clip: rect(1px 1px 1px 1px);clip: rect(1px, 1px, 1px, 1px);height: 1px;margin: -1px;overflow: hidden;padding: 0;position: absolute;width: 1px;}#sk-container-id-9 div.sk-estimator {font-family: monospace;background-color: #f0f8ff;border: 1px dotted black;border-radius: 0.25em;box-sizing: border-box;margin-bottom: 0.5em;}#sk-container-id-9 div.sk-estimator:hover {background-color: #d4ebff;}#sk-container-id-9 div.sk-parallel-item::after {content: \"\";width: 100%;border-bottom: 1px solid gray;flex-grow: 1;}#sk-container-id-9 div.sk-label:hover label.sk-toggleable__label {background-color: #d4ebff;}#sk-container-id-9 div.sk-serial::before {content: \"\";position: absolute;border-left: 1px solid gray;box-sizing: border-box;top: 0;bottom: 0;left: 50%;z-index: 0;}#sk-container-id-9 div.sk-serial {display: flex;flex-direction: column;align-items: center;background-color: white;padding-right: 0.2em;padding-left: 0.2em;position: relative;}#sk-container-id-9 div.sk-item {position: relative;z-index: 1;}#sk-container-id-9 div.sk-parallel {display: flex;align-items: stretch;justify-content: center;background-color: white;position: relative;}#sk-container-id-9 div.sk-item::before, #sk-container-id-9 div.sk-parallel-item::before {content: \"\";position: absolute;border-left: 1px solid gray;box-sizing: border-box;top: 0;bottom: 0;left: 50%;z-index: -1;}#sk-container-id-9 div.sk-parallel-item {display: flex;flex-direction: column;z-index: 1;position: relative;background-color: white;}#sk-container-id-9 div.sk-parallel-item:first-child::after {align-self: flex-end;width: 50%;}#sk-container-id-9 div.sk-parallel-item:last-child::after {align-self: flex-start;width: 50%;}#sk-container-id-9 div.sk-parallel-item:only-child::after {width: 0;}#sk-container-id-9 div.sk-dashed-wrapped {border: 1px dashed gray;margin: 0 0.4em 0.5em 0.4em;box-sizing: border-box;padding-bottom: 0.4em;background-color: white;}#sk-container-id-9 div.sk-label label {font-family: monospace;font-weight: bold;display: inline-block;line-height: 1.2em;}#sk-container-id-9 div.sk-label-container {text-align: center;}#sk-container-id-9 div.sk-container {/* jupyter's `normalize.less` sets `[hidden] { display: none; }` but bootstrap.min.css set `[hidden] { display: none !important; }` so we also need the `!important` here to be able to override the default hidden behavior on the sphinx rendered scikit-learn.org. See: https://github.com/scikit-learn/scikit-learn/issues/21755 */display: inline-block !important;position: relative;}#sk-container-id-9 div.sk-text-repr-fallback {display: none;}</style><div id=\"sk-container-id-9\" class=\"sk-top-container\"><div class=\"sk-text-repr-fallback\"><pre>LogisticRegression(C=2.078156726099516, max_iter=50, penalty=&#x27;l1&#x27;,\n",
       "                   solver=&#x27;saga&#x27;)</pre><b>In a Jupyter environment, please rerun this cell to show the HTML representation or trust the notebook. <br />On GitHub, the HTML representation is unable to render, please try loading this page with nbviewer.org.</b></div><div class=\"sk-container\" hidden><div class=\"sk-item\"><div class=\"sk-estimator sk-toggleable\"><input class=\"sk-toggleable__control sk-hidden--visually\" id=\"sk-estimator-id-23\" type=\"checkbox\" checked><label for=\"sk-estimator-id-23\" class=\"sk-toggleable__label sk-toggleable__label-arrow\">LogisticRegression</label><div class=\"sk-toggleable__content\"><pre>LogisticRegression(C=2.078156726099516, max_iter=50, penalty=&#x27;l1&#x27;,\n",
       "                   solver=&#x27;saga&#x27;)</pre></div></div></div></div></div>"
      ],
      "text/plain": [
       "LogisticRegression(C=2.078156726099516, max_iter=50, penalty='l1',\n",
       "                   solver='saga')"
      ]
     },
     "execution_count": 80,
     "metadata": {},
     "output_type": "execute_result"
    }
   ],
   "source": [
    "logr.fit(x_train, y_train)"
   ]
  },
  {
   "cell_type": "code",
   "execution_count": 82,
   "metadata": {},
   "outputs": [
    {
     "data": {
      "text/plain": [
       "0.5348837209302325"
      ]
     },
     "execution_count": 82,
     "metadata": {},
     "output_type": "execute_result"
    }
   ],
   "source": [
    "y_pred = logr.predict(x_test)\n",
    "scores = accuracy_score(y_test, y_pred)\n",
    "scores"
   ]
  },
  {
   "cell_type": "code",
   "execution_count": 190,
   "metadata": {},
   "outputs": [],
   "source": [
    "# Define the hyperparameter search space\n",
    "search_space = {\n",
    "    'criterion': Categorical(['gini', 'entropy']),\n",
    "    'max_depth': Integer(2, 20),\n",
    "    'min_samples_split': Integer(2, 50),\n",
    "    'min_samples_leaf': Integer(1, 30),\n",
    "    'max_features': Categorical(['sqrt', 'log2', None]),\n",
    "    'ccp_alpha': Real(0.0, 1.0),\n",
    "    'class_weight': Categorical([None, 'balanced'])\n",
    "}\n",
    "\n",
    "# Define the Decision Tree\n",
    "dt = DecisionTreeClassifier(random_state=0)\n"
   ]
  },
  {
   "cell_type": "code",
   "execution_count": 191,
   "metadata": {},
   "outputs": [
    {
     "name": "stderr",
     "output_type": "stream",
     "text": [
      "d:\\Anaconda\\envs\\tf_gpucheck\\lib\\site-packages\\skopt\\optimizer\\optimizer.py:449: UserWarning: The objective has been evaluated at this point before.\n",
      "  warnings.warn(\"The objective has been evaluated \"\n",
      "d:\\Anaconda\\envs\\tf_gpucheck\\lib\\site-packages\\skopt\\optimizer\\optimizer.py:449: UserWarning: The objective has been evaluated at this point before.\n",
      "  warnings.warn(\"The objective has been evaluated \"\n",
      "d:\\Anaconda\\envs\\tf_gpucheck\\lib\\site-packages\\skopt\\optimizer\\optimizer.py:449: UserWarning: The objective has been evaluated at this point before.\n",
      "  warnings.warn(\"The objective has been evaluated \"\n",
      "d:\\Anaconda\\envs\\tf_gpucheck\\lib\\site-packages\\skopt\\optimizer\\optimizer.py:449: UserWarning: The objective has been evaluated at this point before.\n",
      "  warnings.warn(\"The objective has been evaluated \"\n",
      "d:\\Anaconda\\envs\\tf_gpucheck\\lib\\site-packages\\skopt\\optimizer\\optimizer.py:449: UserWarning: The objective has been evaluated at this point before.\n",
      "  warnings.warn(\"The objective has been evaluated \"\n"
     ]
    },
    {
     "data": {
      "text/html": [
       "<style>#sk-container-id-15 {color: black;background-color: white;}#sk-container-id-15 pre{padding: 0;}#sk-container-id-15 div.sk-toggleable {background-color: white;}#sk-container-id-15 label.sk-toggleable__label {cursor: pointer;display: block;width: 100%;margin-bottom: 0;padding: 0.3em;box-sizing: border-box;text-align: center;}#sk-container-id-15 label.sk-toggleable__label-arrow:before {content: \"▸\";float: left;margin-right: 0.25em;color: #696969;}#sk-container-id-15 label.sk-toggleable__label-arrow:hover:before {color: black;}#sk-container-id-15 div.sk-estimator:hover label.sk-toggleable__label-arrow:before {color: black;}#sk-container-id-15 div.sk-toggleable__content {max-height: 0;max-width: 0;overflow: hidden;text-align: left;background-color: #f0f8ff;}#sk-container-id-15 div.sk-toggleable__content pre {margin: 0.2em;color: black;border-radius: 0.25em;background-color: #f0f8ff;}#sk-container-id-15 input.sk-toggleable__control:checked~div.sk-toggleable__content {max-height: 200px;max-width: 100%;overflow: auto;}#sk-container-id-15 input.sk-toggleable__control:checked~label.sk-toggleable__label-arrow:before {content: \"▾\";}#sk-container-id-15 div.sk-estimator input.sk-toggleable__control:checked~label.sk-toggleable__label {background-color: #d4ebff;}#sk-container-id-15 div.sk-label input.sk-toggleable__control:checked~label.sk-toggleable__label {background-color: #d4ebff;}#sk-container-id-15 input.sk-hidden--visually {border: 0;clip: rect(1px 1px 1px 1px);clip: rect(1px, 1px, 1px, 1px);height: 1px;margin: -1px;overflow: hidden;padding: 0;position: absolute;width: 1px;}#sk-container-id-15 div.sk-estimator {font-family: monospace;background-color: #f0f8ff;border: 1px dotted black;border-radius: 0.25em;box-sizing: border-box;margin-bottom: 0.5em;}#sk-container-id-15 div.sk-estimator:hover {background-color: #d4ebff;}#sk-container-id-15 div.sk-parallel-item::after {content: \"\";width: 100%;border-bottom: 1px solid gray;flex-grow: 1;}#sk-container-id-15 div.sk-label:hover label.sk-toggleable__label {background-color: #d4ebff;}#sk-container-id-15 div.sk-serial::before {content: \"\";position: absolute;border-left: 1px solid gray;box-sizing: border-box;top: 0;bottom: 0;left: 50%;z-index: 0;}#sk-container-id-15 div.sk-serial {display: flex;flex-direction: column;align-items: center;background-color: white;padding-right: 0.2em;padding-left: 0.2em;position: relative;}#sk-container-id-15 div.sk-item {position: relative;z-index: 1;}#sk-container-id-15 div.sk-parallel {display: flex;align-items: stretch;justify-content: center;background-color: white;position: relative;}#sk-container-id-15 div.sk-item::before, #sk-container-id-15 div.sk-parallel-item::before {content: \"\";position: absolute;border-left: 1px solid gray;box-sizing: border-box;top: 0;bottom: 0;left: 50%;z-index: -1;}#sk-container-id-15 div.sk-parallel-item {display: flex;flex-direction: column;z-index: 1;position: relative;background-color: white;}#sk-container-id-15 div.sk-parallel-item:first-child::after {align-self: flex-end;width: 50%;}#sk-container-id-15 div.sk-parallel-item:last-child::after {align-self: flex-start;width: 50%;}#sk-container-id-15 div.sk-parallel-item:only-child::after {width: 0;}#sk-container-id-15 div.sk-dashed-wrapped {border: 1px dashed gray;margin: 0 0.4em 0.5em 0.4em;box-sizing: border-box;padding-bottom: 0.4em;background-color: white;}#sk-container-id-15 div.sk-label label {font-family: monospace;font-weight: bold;display: inline-block;line-height: 1.2em;}#sk-container-id-15 div.sk-label-container {text-align: center;}#sk-container-id-15 div.sk-container {/* jupyter's `normalize.less` sets `[hidden] { display: none; }` but bootstrap.min.css set `[hidden] { display: none !important; }` so we also need the `!important` here to be able to override the default hidden behavior on the sphinx rendered scikit-learn.org. See: https://github.com/scikit-learn/scikit-learn/issues/21755 */display: inline-block !important;position: relative;}#sk-container-id-15 div.sk-text-repr-fallback {display: none;}</style><div id=\"sk-container-id-15\" class=\"sk-top-container\"><div class=\"sk-text-repr-fallback\"><pre>BayesSearchCV(estimator=DecisionTreeClassifier(random_state=0), n_iter=100,\n",
       "              n_jobs=-1,\n",
       "              search_spaces={&#x27;ccp_alpha&#x27;: Real(low=0.0, high=1.0, prior=&#x27;uniform&#x27;, transform=&#x27;normalize&#x27;),\n",
       "                             &#x27;class_weight&#x27;: Categorical(categories=(None, &#x27;balanced&#x27;), prior=None),\n",
       "                             &#x27;criterion&#x27;: Categorical(categories=(&#x27;gini&#x27;, &#x27;entropy&#x27;), prior=None),\n",
       "                             &#x27;max_depth&#x27;: Integer(low=2, high=20, prior=&#x27;uniform&#x27;, transform=&#x27;normalize&#x27;),\n",
       "                             &#x27;max_features&#x27;: Categorical(categories=(&#x27;sqrt&#x27;, &#x27;log2&#x27;, None), prior=None),\n",
       "                             &#x27;min_samples_leaf&#x27;: Integer(low=1, high=30, prior=&#x27;uniform&#x27;, transform=&#x27;normalize&#x27;),\n",
       "                             &#x27;min_samples_split&#x27;: Integer(low=2, high=50, prior=&#x27;uniform&#x27;, transform=&#x27;normalize&#x27;)})</pre><b>In a Jupyter environment, please rerun this cell to show the HTML representation or trust the notebook. <br />On GitHub, the HTML representation is unable to render, please try loading this page with nbviewer.org.</b></div><div class=\"sk-container\" hidden><div class=\"sk-item sk-dashed-wrapped\"><div class=\"sk-label-container\"><div class=\"sk-label sk-toggleable\"><input class=\"sk-toggleable__control sk-hidden--visually\" id=\"sk-estimator-id-39\" type=\"checkbox\" ><label for=\"sk-estimator-id-39\" class=\"sk-toggleable__label sk-toggleable__label-arrow\">BayesSearchCV</label><div class=\"sk-toggleable__content\"><pre>BayesSearchCV(estimator=DecisionTreeClassifier(random_state=0), n_iter=100,\n",
       "              n_jobs=-1,\n",
       "              search_spaces={&#x27;ccp_alpha&#x27;: Real(low=0.0, high=1.0, prior=&#x27;uniform&#x27;, transform=&#x27;normalize&#x27;),\n",
       "                             &#x27;class_weight&#x27;: Categorical(categories=(None, &#x27;balanced&#x27;), prior=None),\n",
       "                             &#x27;criterion&#x27;: Categorical(categories=(&#x27;gini&#x27;, &#x27;entropy&#x27;), prior=None),\n",
       "                             &#x27;max_depth&#x27;: Integer(low=2, high=20, prior=&#x27;uniform&#x27;, transform=&#x27;normalize&#x27;),\n",
       "                             &#x27;max_features&#x27;: Categorical(categories=(&#x27;sqrt&#x27;, &#x27;log2&#x27;, None), prior=None),\n",
       "                             &#x27;min_samples_leaf&#x27;: Integer(low=1, high=30, prior=&#x27;uniform&#x27;, transform=&#x27;normalize&#x27;),\n",
       "                             &#x27;min_samples_split&#x27;: Integer(low=2, high=50, prior=&#x27;uniform&#x27;, transform=&#x27;normalize&#x27;)})</pre></div></div></div><div class=\"sk-parallel\"><div class=\"sk-parallel-item\"><div class=\"sk-item\"><div class=\"sk-label-container\"><div class=\"sk-label sk-toggleable\"><input class=\"sk-toggleable__control sk-hidden--visually\" id=\"sk-estimator-id-40\" type=\"checkbox\" ><label for=\"sk-estimator-id-40\" class=\"sk-toggleable__label sk-toggleable__label-arrow\">estimator: DecisionTreeClassifier</label><div class=\"sk-toggleable__content\"><pre>DecisionTreeClassifier(random_state=0)</pre></div></div></div><div class=\"sk-serial\"><div class=\"sk-item\"><div class=\"sk-estimator sk-toggleable\"><input class=\"sk-toggleable__control sk-hidden--visually\" id=\"sk-estimator-id-41\" type=\"checkbox\" ><label for=\"sk-estimator-id-41\" class=\"sk-toggleable__label sk-toggleable__label-arrow\">DecisionTreeClassifier</label><div class=\"sk-toggleable__content\"><pre>DecisionTreeClassifier(random_state=0)</pre></div></div></div></div></div></div></div></div></div></div>"
      ],
      "text/plain": [
       "BayesSearchCV(estimator=DecisionTreeClassifier(random_state=0), n_iter=100,\n",
       "              n_jobs=-1,\n",
       "              search_spaces={'ccp_alpha': Real(low=0.0, high=1.0, prior='uniform', transform='normalize'),\n",
       "                             'class_weight': Categorical(categories=(None, 'balanced'), prior=None),\n",
       "                             'criterion': Categorical(categories=('gini', 'entropy'), prior=None),\n",
       "                             'max_depth': Integer(low=2, high=20, prior='uniform', transform='normalize'),\n",
       "                             'max_features': Categorical(categories=('sqrt', 'log2', None), prior=None),\n",
       "                             'min_samples_leaf': Integer(low=1, high=30, prior='uniform', transform='normalize'),\n",
       "                             'min_samples_split': Integer(low=2, high=50, prior='uniform', transform='normalize')})"
      ]
     },
     "execution_count": 191,
     "metadata": {},
     "output_type": "execute_result"
    }
   ],
   "source": [
    "opt = BayesSearchCV(dt, search_space, n_iter=100, n_jobs=-1)\n",
    "\n",
    "# Fit the BayesSearchCV object to the data\n",
    "opt.fit(x_train, y_train)\n"
   ]
  },
  {
   "cell_type": "code",
   "execution_count": 192,
   "metadata": {},
   "outputs": [],
   "source": [
    "prediction = opt.predict(x_test)"
   ]
  },
  {
   "cell_type": "code",
   "execution_count": 193,
   "metadata": {},
   "outputs": [],
   "source": [
    "score = accuracy_score(y_test, prediction)"
   ]
  },
  {
   "cell_type": "code",
   "execution_count": 194,
   "metadata": {},
   "outputs": [
    {
     "name": "stdout",
     "output_type": "stream",
     "text": [
      "Best hyperparameters: OrderedDict([('ccp_alpha', 0.0), ('class_weight', 'balanced'), ('criterion', 'entropy'), ('max_depth', 8), ('max_features', None), ('min_samples_leaf', 8), ('min_samples_split', 15)])\n",
      "Accuracy on test set: 0.8461538461538461\n"
     ]
    }
   ],
   "source": [
    "print(\"Best hyperparameters:\", opt.best_params_)\n",
    "print(\"Accuracy on test set:\", score)"
   ]
  },
  {
   "cell_type": "code",
   "execution_count": 195,
   "metadata": {},
   "outputs": [
    {
     "name": "stdout",
     "output_type": "stream",
     "text": [
      "[[ 7  4]\n",
      " [ 0 15]]\n"
     ]
    }
   ],
   "source": [
    "\n",
    "\n",
    "# compute the confusion matrix\n",
    "conf_matrix = confusion_matrix(y_test, prediction)\n",
    "\n",
    "# print the confusion matrix\n",
    "print(conf_matrix)"
   ]
  },
  {
   "cell_type": "code",
   "execution_count": 126,
   "metadata": {},
   "outputs": [
    {
     "name": "stderr",
     "output_type": "stream",
     "text": [
      "d:\\Anaconda\\envs\\tf_gpucheck\\lib\\site-packages\\keras\\optimizer_v2\\optimizer_v2.py:355: UserWarning: The `lr` argument is deprecated, use `learning_rate` instead.\n",
      "  warnings.warn(\n"
     ]
    },
    {
     "name": "stdout",
     "output_type": "stream",
     "text": [
      "Epoch 1/150\n",
      "2/2 [==============================] - 1s 171ms/step - loss: 58052.3086 - accuracy: 0.5930 - val_loss: 138245.1094 - val_accuracy: 0.4884\n",
      "Epoch 2/150\n",
      "2/2 [==============================] - 0s 39ms/step - loss: 107206.1641 - accuracy: 0.5000 - val_loss: 3422.2114 - val_accuracy: 0.5116\n",
      "Epoch 3/150\n",
      "2/2 [==============================] - 0s 27ms/step - loss: 7017.8530 - accuracy: 0.5000 - val_loss: 8384.6338 - val_accuracy: 0.5116\n",
      "Epoch 4/150\n",
      "2/2 [==============================] - 0s 29ms/step - loss: 7329.1753 - accuracy: 0.5116 - val_loss: 3574.2197 - val_accuracy: 0.5116\n",
      "Epoch 5/150\n",
      "2/2 [==============================] - 0s 64ms/step - loss: 6675.5029 - accuracy: 0.5233 - val_loss: 5377.3545 - val_accuracy: 0.4884\n",
      "Epoch 6/150\n",
      "2/2 [==============================] - 0s 47ms/step - loss: 6229.8301 - accuracy: 0.5465 - val_loss: 14938.8457 - val_accuracy: 0.5116\n",
      "Epoch 7/150\n",
      "2/2 [==============================] - 0s 43ms/step - loss: 14394.4277 - accuracy: 0.5000 - val_loss: 9064.7119 - val_accuracy: 0.4884\n",
      "Epoch 8/150\n",
      "2/2 [==============================] - 0s 39ms/step - loss: 8588.1582 - accuracy: 0.5000 - val_loss: 1376.8899 - val_accuracy: 0.4884\n",
      "Epoch 9/150\n",
      "2/2 [==============================] - 0s 30ms/step - loss: 4060.5015 - accuracy: 0.5000 - val_loss: 11451.0215 - val_accuracy: 0.5116\n",
      "Epoch 10/150\n",
      "2/2 [==============================] - 0s 31ms/step - loss: 9800.2656 - accuracy: 0.5000 - val_loss: 6342.4404 - val_accuracy: 0.4884\n",
      "Epoch 11/150\n",
      "2/2 [==============================] - 0s 28ms/step - loss: 5945.2778 - accuracy: 0.5000 - val_loss: 9297.8213 - val_accuracy: 0.5116\n",
      "Epoch 12/150\n",
      "2/2 [==============================] - 0s 30ms/step - loss: 8991.6973 - accuracy: 0.4767 - val_loss: 5441.7622 - val_accuracy: 0.4884\n",
      "Epoch 13/150\n",
      "2/2 [==============================] - 0s 28ms/step - loss: 5134.7222 - accuracy: 0.5000 - val_loss: 1141.4529 - val_accuracy: 0.6279\n",
      "Epoch 14/150\n",
      "2/2 [==============================] - 0s 28ms/step - loss: 1343.6458 - accuracy: 0.5000 - val_loss: 4007.4443 - val_accuracy: 0.5116\n",
      "Epoch 15/150\n",
      "2/2 [==============================] - 0s 28ms/step - loss: 3510.2070 - accuracy: 0.5233 - val_loss: 1936.3781 - val_accuracy: 0.4884\n",
      "Epoch 16/150\n",
      "2/2 [==============================] - 0s 48ms/step - loss: 2185.8933 - accuracy: 0.5000 - val_loss: 1227.2218 - val_accuracy: 0.5116\n",
      "Epoch 17/150\n",
      "2/2 [==============================] - 0s 30ms/step - loss: 2094.0281 - accuracy: 0.5465 - val_loss: 5819.6562 - val_accuracy: 0.4884\n",
      "Epoch 18/150\n",
      "2/2 [==============================] - 0s 31ms/step - loss: 4609.2900 - accuracy: 0.5000 - val_loss: 4767.6982 - val_accuracy: 0.5116\n",
      "Epoch 19/150\n",
      "2/2 [==============================] - 0s 29ms/step - loss: 4821.6470 - accuracy: 0.5000 - val_loss: 1704.2889 - val_accuracy: 0.5116\n",
      "Epoch 20/150\n",
      "2/2 [==============================] - 0s 28ms/step - loss: 1846.6842 - accuracy: 0.5233 - val_loss: 4499.5859 - val_accuracy: 0.4884\n",
      "Epoch 21/150\n",
      "2/2 [==============================] - 0s 220ms/step - loss: 4108.8174 - accuracy: 0.5000 - val_loss: 1488.0343 - val_accuracy: 0.4884\n",
      "Epoch 22/150\n",
      "2/2 [==============================] - 0s 26ms/step - loss: 1392.8038 - accuracy: 0.5465 - val_loss: 3411.9478 - val_accuracy: 0.5116\n",
      "Epoch 23/150\n",
      "2/2 [==============================] - 0s 30ms/step - loss: 3106.2217 - accuracy: 0.5000 - val_loss: 1220.8944 - val_accuracy: 0.4186\n",
      "Epoch 24/150\n",
      "2/2 [==============================] - 0s 27ms/step - loss: 1147.2090 - accuracy: 0.5000 - val_loss: 1394.5189 - val_accuracy: 0.4884\n",
      "Epoch 25/150\n",
      "2/2 [==============================] - 0s 26ms/step - loss: 955.8889 - accuracy: 0.5233 - val_loss: 1527.8999 - val_accuracy: 0.5116\n",
      "Epoch 26/150\n",
      "2/2 [==============================] - 0s 24ms/step - loss: 1510.4363 - accuracy: 0.5000 - val_loss: 871.0390 - val_accuracy: 0.5116\n",
      "Epoch 27/150\n",
      "2/2 [==============================] - 0s 26ms/step - loss: 680.1196 - accuracy: 0.5116 - val_loss: 1597.0780 - val_accuracy: 0.4884\n",
      "Epoch 28/150\n",
      "2/2 [==============================] - 0s 30ms/step - loss: 1492.2861 - accuracy: 0.5000 - val_loss: 891.9238 - val_accuracy: 0.4884\n",
      "Epoch 29/150\n",
      "2/2 [==============================] - 0s 23ms/step - loss: 662.7072 - accuracy: 0.5116 - val_loss: 679.6522 - val_accuracy: 0.5116\n",
      "Epoch 30/150\n",
      "2/2 [==============================] - 0s 23ms/step - loss: 761.1620 - accuracy: 0.5000 - val_loss: 411.0390 - val_accuracy: 0.5116\n",
      "Epoch 31/150\n",
      "2/2 [==============================] - 0s 24ms/step - loss: 340.5838 - accuracy: 0.5116 - val_loss: 433.4931 - val_accuracy: 0.4884\n",
      "Epoch 32/150\n",
      "2/2 [==============================] - 0s 22ms/step - loss: 431.7975 - accuracy: 0.5000 - val_loss: 133.6674 - val_accuracy: 0.4419\n",
      "Epoch 33/150\n",
      "2/2 [==============================] - 0s 25ms/step - loss: 181.8204 - accuracy: 0.5116 - val_loss: 480.3085 - val_accuracy: 0.5116\n",
      "Epoch 34/150\n",
      "2/2 [==============================] - 0s 23ms/step - loss: 506.4696 - accuracy: 0.5000 - val_loss: 113.3989 - val_accuracy: 0.5581\n",
      "Epoch 35/150\n",
      "2/2 [==============================] - 0s 24ms/step - loss: 204.9429 - accuracy: 0.5000 - val_loss: 464.9895 - val_accuracy: 0.4884\n",
      "Epoch 36/150\n",
      "2/2 [==============================] - 0s 24ms/step - loss: 460.6584 - accuracy: 0.5000 - val_loss: 218.6558 - val_accuracy: 0.4884\n",
      "Epoch 37/150\n",
      "2/2 [==============================] - 0s 25ms/step - loss: 198.6618 - accuracy: 0.5233 - val_loss: 198.3365 - val_accuracy: 0.5116\n",
      "Epoch 38/150\n",
      "2/2 [==============================] - 0s 23ms/step - loss: 225.8008 - accuracy: 0.5000 - val_loss: 71.6101 - val_accuracy: 0.5349\n",
      "Epoch 39/150\n",
      "2/2 [==============================] - 0s 24ms/step - loss: 72.1418 - accuracy: 0.6279 - val_loss: 214.9412 - val_accuracy: 0.4884\n",
      "Epoch 40/150\n",
      "2/2 [==============================] - 0s 26ms/step - loss: 201.5474 - accuracy: 0.5000 - val_loss: 59.2644 - val_accuracy: 0.4884\n",
      "Epoch 41/150\n",
      "2/2 [==============================] - 0s 22ms/step - loss: 84.1178 - accuracy: 0.4767 - val_loss: 130.8536 - val_accuracy: 0.5116\n",
      "Epoch 42/150\n",
      "2/2 [==============================] - 0s 28ms/step - loss: 108.1355 - accuracy: 0.5000 - val_loss: 112.8347 - val_accuracy: 0.5349\n",
      "Epoch 43/150\n",
      "2/2 [==============================] - 0s 23ms/step - loss: 90.9775 - accuracy: 0.5116 - val_loss: 128.5075 - val_accuracy: 0.5814\n",
      "Epoch 44/150\n",
      "2/2 [==============================] - 0s 27ms/step - loss: 114.4464 - accuracy: 0.5233 - val_loss: 121.0367 - val_accuracy: 0.4884\n",
      "Epoch 45/150\n",
      "2/2 [==============================] - 0s 24ms/step - loss: 109.1690 - accuracy: 0.5000 - val_loss: 75.8805 - val_accuracy: 0.5349\n",
      "Epoch 46/150\n",
      "2/2 [==============================] - 0s 24ms/step - loss: 56.1352 - accuracy: 0.5116 - val_loss: 65.6583 - val_accuracy: 0.5349\n",
      "Epoch 47/150\n",
      "2/2 [==============================] - 0s 23ms/step - loss: 69.8827 - accuracy: 0.4419 - val_loss: 69.2809 - val_accuracy: 0.5116\n",
      "Epoch 48/150\n",
      "2/2 [==============================] - 0s 24ms/step - loss: 65.1918 - accuracy: 0.5233 - val_loss: 46.5143 - val_accuracy: 0.6279\n",
      "Epoch 49/150\n",
      "2/2 [==============================] - 0s 24ms/step - loss: 51.4845 - accuracy: 0.4419 - val_loss: 76.2712 - val_accuracy: 0.5581\n",
      "Epoch 50/150\n",
      "2/2 [==============================] - 0s 23ms/step - loss: 64.5395 - accuracy: 0.5465 - val_loss: 51.2793 - val_accuracy: 0.4419\n",
      "Epoch 51/150\n",
      "2/2 [==============================] - 0s 22ms/step - loss: 50.5427 - accuracy: 0.4884 - val_loss: 32.1478 - val_accuracy: 0.5116\n",
      "Epoch 52/150\n",
      "2/2 [==============================] - 0s 23ms/step - loss: 39.7666 - accuracy: 0.4884 - val_loss: 36.2122 - val_accuracy: 0.5349\n",
      "Epoch 53/150\n",
      "2/2 [==============================] - 0s 23ms/step - loss: 57.1818 - accuracy: 0.4767 - val_loss: 32.9298 - val_accuracy: 0.4186\n",
      "Epoch 54/150\n",
      "2/2 [==============================] - 0s 25ms/step - loss: 26.3001 - accuracy: 0.5349 - val_loss: 35.5116 - val_accuracy: 0.4884\n",
      "Epoch 55/150\n",
      "2/2 [==============================] - 0s 25ms/step - loss: 33.5010 - accuracy: 0.5349 - val_loss: 36.0991 - val_accuracy: 0.5581\n",
      "Epoch 56/150\n",
      "2/2 [==============================] - 0s 24ms/step - loss: 33.0936 - accuracy: 0.5000 - val_loss: 42.4263 - val_accuracy: 0.4884\n",
      "Epoch 57/150\n",
      "2/2 [==============================] - 0s 26ms/step - loss: 39.1067 - accuracy: 0.5233 - val_loss: 37.9885 - val_accuracy: 0.4651\n",
      "Epoch 58/150\n",
      "2/2 [==============================] - 0s 22ms/step - loss: 24.6285 - accuracy: 0.6395 - val_loss: 32.4469 - val_accuracy: 0.4884\n",
      "Epoch 59/150\n",
      "2/2 [==============================] - 0s 25ms/step - loss: 20.4704 - accuracy: 0.6047 - val_loss: 31.0442 - val_accuracy: 0.5814\n",
      "Epoch 60/150\n",
      "2/2 [==============================] - 0s 25ms/step - loss: 22.4044 - accuracy: 0.6163 - val_loss: 24.5173 - val_accuracy: 0.6512\n",
      "Epoch 61/150\n",
      "2/2 [==============================] - 0s 23ms/step - loss: 18.0388 - accuracy: 0.6047 - val_loss: 54.5026 - val_accuracy: 0.4884\n",
      "Epoch 62/150\n",
      "2/2 [==============================] - 0s 24ms/step - loss: 48.3842 - accuracy: 0.5000 - val_loss: 30.2379 - val_accuracy: 0.5581\n",
      "Epoch 63/150\n",
      "2/2 [==============================] - 0s 24ms/step - loss: 40.2614 - accuracy: 0.5349 - val_loss: 35.2296 - val_accuracy: 0.5116\n",
      "Epoch 64/150\n",
      "2/2 [==============================] - 0s 24ms/step - loss: 33.5761 - accuracy: 0.4302 - val_loss: 27.4204 - val_accuracy: 0.5116\n",
      "Epoch 65/150\n",
      "2/2 [==============================] - 0s 24ms/step - loss: 20.2617 - accuracy: 0.4767 - val_loss: 30.8461 - val_accuracy: 0.5116\n",
      "Epoch 66/150\n",
      "2/2 [==============================] - 0s 25ms/step - loss: 21.4485 - accuracy: 0.5698 - val_loss: 33.2715 - val_accuracy: 0.5116\n",
      "Epoch 67/150\n",
      "2/2 [==============================] - 0s 23ms/step - loss: 20.3509 - accuracy: 0.6163 - val_loss: 26.4918 - val_accuracy: 0.5116\n",
      "Epoch 68/150\n",
      "2/2 [==============================] - 0s 25ms/step - loss: 21.7839 - accuracy: 0.5116 - val_loss: 43.5470 - val_accuracy: 0.4884\n",
      "Epoch 69/150\n",
      "2/2 [==============================] - 0s 27ms/step - loss: 30.3723 - accuracy: 0.5581 - val_loss: 36.1304 - val_accuracy: 0.5116\n",
      "Epoch 70/150\n",
      "2/2 [==============================] - 0s 23ms/step - loss: 25.8779 - accuracy: 0.5465 - val_loss: 33.5358 - val_accuracy: 0.5349\n",
      "Epoch 71/150\n",
      "2/2 [==============================] - 0s 24ms/step - loss: 18.9480 - accuracy: 0.6279 - val_loss: 24.3544 - val_accuracy: 0.5581\n",
      "Epoch 72/150\n",
      "2/2 [==============================] - 0s 24ms/step - loss: 15.0420 - accuracy: 0.6047 - val_loss: 22.2103 - val_accuracy: 0.5581\n",
      "Epoch 73/150\n",
      "2/2 [==============================] - 0s 25ms/step - loss: 13.6166 - accuracy: 0.5930 - val_loss: 22.2105 - val_accuracy: 0.5814\n",
      "Epoch 74/150\n",
      "2/2 [==============================] - 0s 24ms/step - loss: 11.9796 - accuracy: 0.5814 - val_loss: 19.6023 - val_accuracy: 0.5581\n",
      "Epoch 75/150\n",
      "2/2 [==============================] - 0s 24ms/step - loss: 16.2853 - accuracy: 0.5349 - val_loss: 56.3767 - val_accuracy: 0.5116\n",
      "Epoch 76/150\n",
      "2/2 [==============================] - 0s 26ms/step - loss: 39.5778 - accuracy: 0.5465 - val_loss: 32.7881 - val_accuracy: 0.5116\n",
      "Epoch 77/150\n",
      "2/2 [==============================] - 0s 22ms/step - loss: 34.4770 - accuracy: 0.5000 - val_loss: 66.4366 - val_accuracy: 0.5116\n",
      "Epoch 78/150\n",
      "2/2 [==============================] - 0s 36ms/step - loss: 55.5058 - accuracy: 0.5465 - val_loss: 28.0303 - val_accuracy: 0.6047\n",
      "Epoch 79/150\n",
      "2/2 [==============================] - 0s 25ms/step - loss: 37.6263 - accuracy: 0.5000 - val_loss: 55.9258 - val_accuracy: 0.4884\n",
      "Epoch 80/150\n",
      "2/2 [==============================] - 0s 27ms/step - loss: 58.9233 - accuracy: 0.5000 - val_loss: 24.0727 - val_accuracy: 0.6047\n",
      "Epoch 81/150\n",
      "2/2 [==============================] - 0s 54ms/step - loss: 27.2645 - accuracy: 0.6047 - val_loss: 14.1490 - val_accuracy: 0.6047\n",
      "Epoch 82/150\n",
      "2/2 [==============================] - 0s 28ms/step - loss: 17.9163 - accuracy: 0.6395 - val_loss: 17.6766 - val_accuracy: 0.6512\n",
      "Epoch 83/150\n",
      "2/2 [==============================] - 0s 23ms/step - loss: 18.3579 - accuracy: 0.6279 - val_loss: 33.2672 - val_accuracy: 0.6047\n",
      "Epoch 84/150\n",
      "2/2 [==============================] - 0s 25ms/step - loss: 26.9128 - accuracy: 0.5930 - val_loss: 29.6959 - val_accuracy: 0.5581\n",
      "Epoch 85/150\n",
      "2/2 [==============================] - 0s 24ms/step - loss: 21.9706 - accuracy: 0.6395 - val_loss: 36.6975 - val_accuracy: 0.5349\n",
      "Epoch 86/150\n",
      "2/2 [==============================] - 0s 24ms/step - loss: 32.2754 - accuracy: 0.5465 - val_loss: 21.1713 - val_accuracy: 0.5581\n",
      "Epoch 87/150\n",
      "2/2 [==============================] - 0s 25ms/step - loss: 18.6829 - accuracy: 0.6395 - val_loss: 20.0034 - val_accuracy: 0.6047\n",
      "Epoch 88/150\n",
      "2/2 [==============================] - 0s 24ms/step - loss: 13.5423 - accuracy: 0.6163 - val_loss: 46.5437 - val_accuracy: 0.4884\n",
      "Epoch 89/150\n",
      "2/2 [==============================] - 0s 25ms/step - loss: 31.5405 - accuracy: 0.6163 - val_loss: 27.4948 - val_accuracy: 0.4884\n",
      "Epoch 90/150\n",
      "2/2 [==============================] - 0s 27ms/step - loss: 23.3109 - accuracy: 0.5465 - val_loss: 17.8023 - val_accuracy: 0.6279\n",
      "Epoch 91/150\n",
      "2/2 [==============================] - 0s 25ms/step - loss: 13.5279 - accuracy: 0.6395 - val_loss: 28.1912 - val_accuracy: 0.5349\n",
      "Epoch 92/150\n",
      "2/2 [==============================] - 0s 31ms/step - loss: 18.8297 - accuracy: 0.6395 - val_loss: 18.9849 - val_accuracy: 0.5349\n",
      "Epoch 93/150\n",
      "2/2 [==============================] - 0s 28ms/step - loss: 16.0689 - accuracy: 0.6047 - val_loss: 29.5548 - val_accuracy: 0.5349\n",
      "Epoch 94/150\n",
      "2/2 [==============================] - 0s 24ms/step - loss: 17.6322 - accuracy: 0.6395 - val_loss: 21.4392 - val_accuracy: 0.4651\n",
      "Epoch 95/150\n",
      "2/2 [==============================] - 0s 25ms/step - loss: 14.7585 - accuracy: 0.5930 - val_loss: 46.8543 - val_accuracy: 0.5349\n",
      "Epoch 96/150\n",
      "2/2 [==============================] - 0s 24ms/step - loss: 37.4435 - accuracy: 0.5349 - val_loss: 14.5552 - val_accuracy: 0.5581\n",
      "Epoch 97/150\n",
      "2/2 [==============================] - 0s 24ms/step - loss: 19.2084 - accuracy: 0.5930 - val_loss: 25.8744 - val_accuracy: 0.5349\n",
      "Epoch 98/150\n",
      "2/2 [==============================] - 0s 25ms/step - loss: 25.0926 - accuracy: 0.5349 - val_loss: 23.6595 - val_accuracy: 0.4884\n",
      "Epoch 99/150\n",
      "2/2 [==============================] - 0s 30ms/step - loss: 16.5510 - accuracy: 0.5930 - val_loss: 16.1036 - val_accuracy: 0.4884\n",
      "Epoch 100/150\n",
      "2/2 [==============================] - 0s 31ms/step - loss: 16.0508 - accuracy: 0.6279 - val_loss: 26.6727 - val_accuracy: 0.5349\n",
      "Epoch 101/150\n",
      "2/2 [==============================] - 0s 36ms/step - loss: 19.2990 - accuracy: 0.5349 - val_loss: 24.6020 - val_accuracy: 0.5116\n",
      "Epoch 102/150\n",
      "2/2 [==============================] - 0s 37ms/step - loss: 22.3667 - accuracy: 0.5465 - val_loss: 34.5196 - val_accuracy: 0.5349\n",
      "Epoch 103/150\n",
      "2/2 [==============================] - 0s 38ms/step - loss: 26.3337 - accuracy: 0.5581 - val_loss: 12.8594 - val_accuracy: 0.5349\n",
      "Epoch 104/150\n",
      "2/2 [==============================] - 0s 26ms/step - loss: 8.7436 - accuracy: 0.6744 - val_loss: 27.2056 - val_accuracy: 0.4884\n",
      "Epoch 105/150\n",
      "2/2 [==============================] - 0s 26ms/step - loss: 21.6944 - accuracy: 0.5930 - val_loss: 32.4890 - val_accuracy: 0.4651\n",
      "Epoch 106/150\n",
      "2/2 [==============================] - 0s 25ms/step - loss: 20.7807 - accuracy: 0.6047 - val_loss: 17.2633 - val_accuracy: 0.4419\n",
      "Epoch 107/150\n",
      "2/2 [==============================] - 0s 24ms/step - loss: 14.1034 - accuracy: 0.5814 - val_loss: 18.6587 - val_accuracy: 0.4884\n",
      "Epoch 108/150\n",
      "2/2 [==============================] - 0s 24ms/step - loss: 13.4824 - accuracy: 0.6047 - val_loss: 20.3926 - val_accuracy: 0.5581\n",
      "Epoch 109/150\n",
      "2/2 [==============================] - 0s 29ms/step - loss: 12.7759 - accuracy: 0.6860 - val_loss: 25.0661 - val_accuracy: 0.5581\n",
      "Epoch 110/150\n",
      "2/2 [==============================] - 0s 40ms/step - loss: 17.5929 - accuracy: 0.5814 - val_loss: 19.9568 - val_accuracy: 0.5349\n",
      "Epoch 111/150\n",
      "2/2 [==============================] - 0s 31ms/step - loss: 13.9866 - accuracy: 0.5698 - val_loss: 13.8832 - val_accuracy: 0.5349\n",
      "Epoch 112/150\n",
      "2/2 [==============================] - 0s 25ms/step - loss: 8.9306 - accuracy: 0.6512 - val_loss: 14.4929 - val_accuracy: 0.4884\n",
      "Epoch 113/150\n",
      "2/2 [==============================] - 0s 25ms/step - loss: 12.2610 - accuracy: 0.6047 - val_loss: 16.6402 - val_accuracy: 0.6047\n",
      "Epoch 114/150\n",
      "2/2 [==============================] - 0s 25ms/step - loss: 16.3572 - accuracy: 0.4767 - val_loss: 13.5583 - val_accuracy: 0.5581\n",
      "Epoch 115/150\n",
      "2/2 [==============================] - 0s 23ms/step - loss: 6.3190 - accuracy: 0.6395 - val_loss: 15.6580 - val_accuracy: 0.5581\n",
      "Epoch 116/150\n",
      "2/2 [==============================] - 0s 27ms/step - loss: 7.1395 - accuracy: 0.6395 - val_loss: 12.9091 - val_accuracy: 0.5349\n",
      "Epoch 117/150\n",
      "2/2 [==============================] - 0s 23ms/step - loss: 5.7578 - accuracy: 0.5930 - val_loss: 14.8090 - val_accuracy: 0.5581\n",
      "Epoch 118/150\n",
      "2/2 [==============================] - 0s 24ms/step - loss: 7.3158 - accuracy: 0.6395 - val_loss: 12.8866 - val_accuracy: 0.5116\n",
      "Epoch 119/150\n",
      "2/2 [==============================] - 0s 27ms/step - loss: 10.9136 - accuracy: 0.5930 - val_loss: 10.5940 - val_accuracy: 0.5349\n",
      "Epoch 120/150\n",
      "2/2 [==============================] - 0s 26ms/step - loss: 5.9768 - accuracy: 0.6395 - val_loss: 17.6413 - val_accuracy: 0.5349\n",
      "Epoch 121/150\n",
      "2/2 [==============================] - 0s 23ms/step - loss: 12.7613 - accuracy: 0.5814 - val_loss: 12.6478 - val_accuracy: 0.6047\n",
      "Epoch 122/150\n",
      "2/2 [==============================] - 0s 26ms/step - loss: 8.1053 - accuracy: 0.6279 - val_loss: 12.6668 - val_accuracy: 0.6279\n",
      "Epoch 123/150\n",
      "2/2 [==============================] - 0s 25ms/step - loss: 8.0321 - accuracy: 0.5698 - val_loss: 27.5106 - val_accuracy: 0.4651\n",
      "Epoch 124/150\n",
      "2/2 [==============================] - 0s 23ms/step - loss: 16.4124 - accuracy: 0.5465 - val_loss: 15.4509 - val_accuracy: 0.5814\n",
      "Epoch 125/150\n",
      "2/2 [==============================] - 0s 23ms/step - loss: 8.5289 - accuracy: 0.6047 - val_loss: 12.5623 - val_accuracy: 0.5349\n",
      "Epoch 126/150\n",
      "2/2 [==============================] - 0s 28ms/step - loss: 5.7175 - accuracy: 0.6395 - val_loss: 10.0212 - val_accuracy: 0.5581\n",
      "Epoch 127/150\n",
      "2/2 [==============================] - 0s 25ms/step - loss: 4.1193 - accuracy: 0.7093 - val_loss: 17.1817 - val_accuracy: 0.5349\n",
      "Epoch 128/150\n",
      "2/2 [==============================] - 0s 24ms/step - loss: 15.8433 - accuracy: 0.5233 - val_loss: 10.7547 - val_accuracy: 0.4884\n",
      "Epoch 129/150\n",
      "2/2 [==============================] - 0s 24ms/step - loss: 8.0135 - accuracy: 0.5814 - val_loss: 9.4108 - val_accuracy: 0.5814\n",
      "Epoch 130/150\n",
      "2/2 [==============================] - 0s 24ms/step - loss: 6.4654 - accuracy: 0.6279 - val_loss: 9.2265 - val_accuracy: 0.6047\n",
      "Epoch 131/150\n",
      "2/2 [==============================] - 0s 24ms/step - loss: 5.1138 - accuracy: 0.6047 - val_loss: 16.9495 - val_accuracy: 0.5116\n",
      "Epoch 132/150\n",
      "2/2 [==============================] - 0s 23ms/step - loss: 9.1665 - accuracy: 0.6279 - val_loss: 14.9188 - val_accuracy: 0.5581\n",
      "Epoch 133/150\n",
      "2/2 [==============================] - 0s 23ms/step - loss: 9.8310 - accuracy: 0.5930 - val_loss: 13.9631 - val_accuracy: 0.5116\n",
      "Epoch 134/150\n",
      "2/2 [==============================] - 0s 25ms/step - loss: 9.3169 - accuracy: 0.5814 - val_loss: 8.9641 - val_accuracy: 0.5814\n",
      "Epoch 135/150\n",
      "2/2 [==============================] - 0s 25ms/step - loss: 5.2286 - accuracy: 0.6163 - val_loss: 17.0549 - val_accuracy: 0.5581\n",
      "Epoch 136/150\n",
      "2/2 [==============================] - 0s 23ms/step - loss: 11.6360 - accuracy: 0.5698 - val_loss: 21.0839 - val_accuracy: 0.4884\n",
      "Epoch 137/150\n",
      "2/2 [==============================] - 0s 25ms/step - loss: 12.6979 - accuracy: 0.6163 - val_loss: 28.6311 - val_accuracy: 0.4884\n",
      "Epoch 138/150\n",
      "2/2 [==============================] - 0s 25ms/step - loss: 22.9567 - accuracy: 0.5349 - val_loss: 16.9881 - val_accuracy: 0.5581\n",
      "Epoch 139/150\n",
      "2/2 [==============================] - 0s 26ms/step - loss: 11.6886 - accuracy: 0.5814 - val_loss: 26.8220 - val_accuracy: 0.5116\n",
      "Epoch 140/150\n",
      "2/2 [==============================] - 0s 27ms/step - loss: 23.9484 - accuracy: 0.5349 - val_loss: 17.0501 - val_accuracy: 0.5814\n",
      "Epoch 141/150\n",
      "2/2 [==============================] - 0s 24ms/step - loss: 17.0775 - accuracy: 0.5000 - val_loss: 28.9669 - val_accuracy: 0.4651\n",
      "Epoch 142/150\n",
      "2/2 [==============================] - 0s 24ms/step - loss: 20.7101 - accuracy: 0.5116 - val_loss: 19.0580 - val_accuracy: 0.4884\n",
      "Epoch 143/150\n",
      "2/2 [==============================] - 0s 24ms/step - loss: 12.6404 - accuracy: 0.5698 - val_loss: 26.4861 - val_accuracy: 0.4419\n",
      "Epoch 144/150\n",
      "2/2 [==============================] - 0s 23ms/step - loss: 16.0980 - accuracy: 0.5698 - val_loss: 17.0138 - val_accuracy: 0.4884\n",
      "Epoch 145/150\n",
      "2/2 [==============================] - 0s 27ms/step - loss: 20.3005 - accuracy: 0.5000 - val_loss: 26.9781 - val_accuracy: 0.5116\n",
      "Epoch 146/150\n",
      "2/2 [==============================] - 0s 24ms/step - loss: 21.5316 - accuracy: 0.4535 - val_loss: 11.5790 - val_accuracy: 0.4884\n",
      "Epoch 147/150\n",
      "2/2 [==============================] - 0s 24ms/step - loss: 13.9661 - accuracy: 0.5698 - val_loss: 27.7866 - val_accuracy: 0.5349\n",
      "Epoch 148/150\n",
      "2/2 [==============================] - 0s 24ms/step - loss: 18.8955 - accuracy: 0.5814 - val_loss: 26.5820 - val_accuracy: 0.4884\n",
      "Epoch 149/150\n",
      "2/2 [==============================] - 0s 24ms/step - loss: 16.3114 - accuracy: 0.5116 - val_loss: 17.5514 - val_accuracy: 0.4651\n",
      "Epoch 150/150\n",
      "2/2 [==============================] - 0s 24ms/step - loss: 8.4852 - accuracy: 0.6279 - val_loss: 11.8777 - val_accuracy: 0.5349\n"
     ]
    }
   ],
   "source": [
    "import random\n",
    "random.seed(0)\n",
    "\n",
    "# Create the model\n",
    "model = Sequential([\n",
    "        keras.layers.Dense(64, activation='relu', input_shape =(16,) ),\n",
    "        keras.layers.Dense(64, activation='relu'),\n",
    "        keras.layers.Dense(64, activation='relu'),\n",
    "        keras.layers.Dense(64, activation='relu'),\n",
    "\n",
    "        keras.layers.Dense(1, activation='sigmoid')\n",
    "])\n",
    "\n",
    "# Compile the model with a learning rate schedule\n",
    "opt = Adam(lr=1e-2)\n",
    "model.compile(loss='categorical_crossentropy', optimizer=opt, metrics=['accuracy'])\n",
    "history = model.fit(x_train, y_train, epochs=150, batch_size=64, validation_data=(x_test, y_test))\n"
   ]
  },
  {
   "cell_type": "code",
   "execution_count": 127,
   "metadata": {},
   "outputs": [
    {
     "name": "stdout",
     "output_type": "stream",
     "text": [
      "Highest validation accuracy: 0.6511628031730652\n"
     ]
    }
   ],
   "source": [
    "print(\"Highest validation accuracy:\", max(history.history['val_accuracy']))"
   ]
  },
  {
   "cell_type": "code",
   "execution_count": 202,
   "metadata": {},
   "outputs": [
    {
     "name": "stderr",
     "output_type": "stream",
     "text": [
      "d:\\Anaconda\\envs\\tf_gpucheck\\lib\\site-packages\\keras\\optimizer_v2\\optimizer_v2.py:355: UserWarning: The `lr` argument is deprecated, use `learning_rate` instead.\n",
      "  warnings.warn(\n"
     ]
    },
    {
     "name": "stdout",
     "output_type": "stream",
     "text": [
      "Epoch 1/100\n",
      "2/2 [==============================] - 1s 161ms/step - loss: 122599.7734 - accuracy: 0.4660 - val_loss: 133553.2656 - val_accuracy: 0.4231\n",
      "Epoch 2/100\n",
      "2/2 [==============================] - 0s 72ms/step - loss: 86356.4297 - accuracy: 0.5146 - val_loss: 44694.6914 - val_accuracy: 0.4231\n",
      "Epoch 3/100\n",
      "2/2 [==============================] - 0s 34ms/step - loss: 52717.2148 - accuracy: 0.4854 - val_loss: 51920.8477 - val_accuracy: 0.5769\n",
      "Epoch 4/100\n",
      "2/2 [==============================] - 0s 30ms/step - loss: 36305.7852 - accuracy: 0.4854 - val_loss: 63357.5430 - val_accuracy: 0.4231\n",
      "Epoch 5/100\n",
      "2/2 [==============================] - 0s 28ms/step - loss: 51623.1953 - accuracy: 0.5146 - val_loss: 42781.2227 - val_accuracy: 0.4231\n",
      "Epoch 6/100\n",
      "2/2 [==============================] - 0s 36ms/step - loss: 26179.3672 - accuracy: 0.5534 - val_loss: 27725.2383 - val_accuracy: 0.5769\n",
      "Epoch 7/100\n",
      "2/2 [==============================] - 0s 30ms/step - loss: 27538.8203 - accuracy: 0.4854 - val_loss: 6940.3301 - val_accuracy: 0.3846\n",
      "Epoch 8/100\n",
      "2/2 [==============================] - 0s 26ms/step - loss: 12041.7256 - accuracy: 0.4951 - val_loss: 11677.0000 - val_accuracy: 0.4615\n",
      "Epoch 9/100\n",
      "2/2 [==============================] - 0s 27ms/step - loss: 13964.4463 - accuracy: 0.5340 - val_loss: 16999.1270 - val_accuracy: 0.5769\n",
      "Epoch 10/100\n",
      "2/2 [==============================] - 0s 24ms/step - loss: 15598.0391 - accuracy: 0.4563 - val_loss: 12439.6270 - val_accuracy: 0.4231\n",
      "Epoch 11/100\n",
      "2/2 [==============================] - 0s 26ms/step - loss: 11959.0166 - accuracy: 0.5340 - val_loss: 11488.1416 - val_accuracy: 0.6154\n",
      "Epoch 12/100\n",
      "2/2 [==============================] - 0s 25ms/step - loss: 13532.1514 - accuracy: 0.4563 - val_loss: 7294.0527 - val_accuracy: 0.4615\n",
      "Epoch 13/100\n",
      "2/2 [==============================] - 0s 25ms/step - loss: 9270.6816 - accuracy: 0.5049 - val_loss: 6552.4424 - val_accuracy: 0.6154\n",
      "Epoch 14/100\n",
      "2/2 [==============================] - 0s 26ms/step - loss: 6875.7222 - accuracy: 0.5340 - val_loss: 7459.5645 - val_accuracy: 0.4615\n",
      "Epoch 15/100\n",
      "2/2 [==============================] - 0s 27ms/step - loss: 6937.8496 - accuracy: 0.4660 - val_loss: 10998.8994 - val_accuracy: 0.5769\n",
      "Epoch 16/100\n",
      "2/2 [==============================] - 0s 24ms/step - loss: 10433.0488 - accuracy: 0.4951 - val_loss: 8240.3535 - val_accuracy: 0.4231\n",
      "Epoch 17/100\n",
      "2/2 [==============================] - 0s 25ms/step - loss: 6818.5454 - accuracy: 0.4563 - val_loss: 7049.1685 - val_accuracy: 0.5769\n",
      "Epoch 18/100\n",
      "2/2 [==============================] - 0s 23ms/step - loss: 6138.6152 - accuracy: 0.5437 - val_loss: 9996.3906 - val_accuracy: 0.4615\n",
      "Epoch 19/100\n",
      "2/2 [==============================] - 0s 22ms/step - loss: 7146.5952 - accuracy: 0.5049 - val_loss: 12271.9180 - val_accuracy: 0.5769\n",
      "Epoch 20/100\n",
      "2/2 [==============================] - 0s 24ms/step - loss: 11117.2246 - accuracy: 0.4951 - val_loss: 15000.5068 - val_accuracy: 0.4231\n",
      "Epoch 21/100\n",
      "2/2 [==============================] - 0s 22ms/step - loss: 13363.0938 - accuracy: 0.5146 - val_loss: 5184.9297 - val_accuracy: 0.6154\n",
      "Epoch 22/100\n",
      "2/2 [==============================] - 0s 22ms/step - loss: 6174.8105 - accuracy: 0.5049 - val_loss: 5393.8394 - val_accuracy: 0.5000\n",
      "Epoch 23/100\n",
      "2/2 [==============================] - 0s 23ms/step - loss: 4755.7671 - accuracy: 0.5340 - val_loss: 5885.6777 - val_accuracy: 0.5769\n",
      "Epoch 24/100\n",
      "2/2 [==============================] - 0s 24ms/step - loss: 5981.9282 - accuracy: 0.5049 - val_loss: 3618.1826 - val_accuracy: 0.4615\n",
      "Epoch 25/100\n",
      "2/2 [==============================] - 0s 24ms/step - loss: 2931.5261 - accuracy: 0.5243 - val_loss: 3237.2808 - val_accuracy: 0.4231\n",
      "Epoch 26/100\n",
      "2/2 [==============================] - 0s 23ms/step - loss: 2909.8367 - accuracy: 0.5437 - val_loss: 2948.5486 - val_accuracy: 0.3846\n",
      "Epoch 27/100\n",
      "2/2 [==============================] - 0s 24ms/step - loss: 2999.6348 - accuracy: 0.5243 - val_loss: 11373.4590 - val_accuracy: 0.4231\n",
      "Epoch 28/100\n",
      "2/2 [==============================] - 0s 22ms/step - loss: 7718.2891 - accuracy: 0.4854 - val_loss: 10679.6826 - val_accuracy: 0.5769\n",
      "Epoch 29/100\n",
      "2/2 [==============================] - 0s 23ms/step - loss: 9469.8467 - accuracy: 0.4757 - val_loss: 21714.0410 - val_accuracy: 0.4231\n",
      "Epoch 30/100\n",
      "2/2 [==============================] - 0s 22ms/step - loss: 20089.0273 - accuracy: 0.5146 - val_loss: 10197.5674 - val_accuracy: 0.3846\n",
      "Epoch 31/100\n",
      "2/2 [==============================] - 0s 24ms/step - loss: 11191.6553 - accuracy: 0.5437 - val_loss: 26020.5742 - val_accuracy: 0.5769\n",
      "Epoch 32/100\n",
      "2/2 [==============================] - 0s 28ms/step - loss: 26021.6387 - accuracy: 0.4854 - val_loss: 10445.6924 - val_accuracy: 0.3846\n",
      "Epoch 33/100\n",
      "2/2 [==============================] - 0s 28ms/step - loss: 10313.4658 - accuracy: 0.5243 - val_loss: 6941.1279 - val_accuracy: 0.3462\n",
      "Epoch 34/100\n",
      "2/2 [==============================] - 0s 26ms/step - loss: 12308.1104 - accuracy: 0.4660 - val_loss: 18407.3477 - val_accuracy: 0.5769\n",
      "Epoch 35/100\n",
      "2/2 [==============================] - 0s 28ms/step - loss: 14164.7949 - accuracy: 0.5049 - val_loss: 26410.7539 - val_accuracy: 0.4231\n",
      "Epoch 36/100\n",
      "2/2 [==============================] - 0s 28ms/step - loss: 26607.5820 - accuracy: 0.5146 - val_loss: 22380.8848 - val_accuracy: 0.4231\n",
      "Epoch 37/100\n",
      "2/2 [==============================] - 0s 28ms/step - loss: 11645.3203 - accuracy: 0.6117 - val_loss: 14092.8848 - val_accuracy: 0.6154\n",
      "Epoch 38/100\n",
      "2/2 [==============================] - 0s 27ms/step - loss: 15207.1289 - accuracy: 0.5146 - val_loss: 8923.0615 - val_accuracy: 0.4231\n",
      "Epoch 39/100\n",
      "2/2 [==============================] - 0s 30ms/step - loss: 9535.7080 - accuracy: 0.5146 - val_loss: 2491.8635 - val_accuracy: 0.6154\n",
      "Epoch 40/100\n",
      "2/2 [==============================] - 0s 26ms/step - loss: 6767.3501 - accuracy: 0.5243 - val_loss: 5742.8936 - val_accuracy: 0.6538\n",
      "Epoch 41/100\n",
      "2/2 [==============================] - 0s 25ms/step - loss: 6885.9971 - accuracy: 0.6019 - val_loss: 19134.4258 - val_accuracy: 0.4231\n",
      "Epoch 42/100\n",
      "2/2 [==============================] - 0s 28ms/step - loss: 12640.5654 - accuracy: 0.5146 - val_loss: 15307.1826 - val_accuracy: 0.5769\n",
      "Epoch 43/100\n",
      "2/2 [==============================] - 0s 29ms/step - loss: 18608.0977 - accuracy: 0.5049 - val_loss: 7161.8203 - val_accuracy: 0.6538\n",
      "Epoch 44/100\n",
      "2/2 [==============================] - 0s 26ms/step - loss: 13805.8965 - accuracy: 0.4660 - val_loss: 30794.6152 - val_accuracy: 0.4231\n",
      "Epoch 45/100\n",
      "2/2 [==============================] - 0s 28ms/step - loss: 22622.3672 - accuracy: 0.5146 - val_loss: 11253.5312 - val_accuracy: 0.6154\n",
      "Epoch 46/100\n",
      "2/2 [==============================] - 0s 28ms/step - loss: 14889.7246 - accuracy: 0.5340 - val_loss: 10471.5146 - val_accuracy: 0.5769\n",
      "Epoch 47/100\n",
      "2/2 [==============================] - 0s 27ms/step - loss: 11130.9834 - accuracy: 0.5146 - val_loss: 28089.2930 - val_accuracy: 0.4231\n",
      "Epoch 48/100\n",
      "2/2 [==============================] - 0s 24ms/step - loss: 18144.1504 - accuracy: 0.5146 - val_loss: 10479.8057 - val_accuracy: 0.6154\n",
      "Epoch 49/100\n",
      "2/2 [==============================] - 0s 24ms/step - loss: 10169.1045 - accuracy: 0.5243 - val_loss: 5322.1206 - val_accuracy: 0.3462\n",
      "Epoch 50/100\n",
      "2/2 [==============================] - 0s 28ms/step - loss: 5690.7100 - accuracy: 0.5728 - val_loss: 10039.6367 - val_accuracy: 0.3462\n",
      "Epoch 51/100\n",
      "2/2 [==============================] - 0s 28ms/step - loss: 7348.3403 - accuracy: 0.5243 - val_loss: 5388.2666 - val_accuracy: 0.5769\n",
      "Epoch 52/100\n",
      "2/2 [==============================] - 0s 28ms/step - loss: 6243.3550 - accuracy: 0.5340 - val_loss: 7089.7026 - val_accuracy: 0.3462\n",
      "Epoch 53/100\n",
      "2/2 [==============================] - 0s 29ms/step - loss: 8300.1318 - accuracy: 0.4757 - val_loss: 8573.3496 - val_accuracy: 0.6154\n",
      "Epoch 54/100\n",
      "2/2 [==============================] - 0s 25ms/step - loss: 9583.9951 - accuracy: 0.4466 - val_loss: 7705.3794 - val_accuracy: 0.3462\n",
      "Epoch 55/100\n",
      "2/2 [==============================] - 0s 26ms/step - loss: 5087.4131 - accuracy: 0.6311 - val_loss: 6803.0776 - val_accuracy: 0.6538\n",
      "Epoch 56/100\n",
      "2/2 [==============================] - 0s 25ms/step - loss: 5441.1167 - accuracy: 0.5825 - val_loss: 6977.9458 - val_accuracy: 0.3077\n",
      "Epoch 57/100\n",
      "2/2 [==============================] - 0s 25ms/step - loss: 4800.8315 - accuracy: 0.6117 - val_loss: 4363.9790 - val_accuracy: 0.5769\n",
      "Epoch 58/100\n",
      "2/2 [==============================] - 0s 30ms/step - loss: 5141.6826 - accuracy: 0.5534 - val_loss: 7538.5034 - val_accuracy: 0.4231\n",
      "Epoch 59/100\n",
      "2/2 [==============================] - 0s 27ms/step - loss: 7703.0679 - accuracy: 0.5049 - val_loss: 9101.8027 - val_accuracy: 0.6154\n",
      "Epoch 60/100\n",
      "2/2 [==============================] - 0s 23ms/step - loss: 6209.5024 - accuracy: 0.5728 - val_loss: 8350.2852 - val_accuracy: 0.4231\n",
      "Epoch 61/100\n",
      "2/2 [==============================] - 0s 24ms/step - loss: 5192.2681 - accuracy: 0.5437 - val_loss: 2473.1624 - val_accuracy: 0.5769\n",
      "Epoch 62/100\n",
      "2/2 [==============================] - 0s 28ms/step - loss: 4218.5166 - accuracy: 0.5534 - val_loss: 2188.1514 - val_accuracy: 0.5385\n",
      "Epoch 63/100\n",
      "2/2 [==============================] - 0s 26ms/step - loss: 3848.4717 - accuracy: 0.5049 - val_loss: 2710.0432 - val_accuracy: 0.5385\n",
      "Epoch 64/100\n",
      "2/2 [==============================] - 0s 26ms/step - loss: 4010.2825 - accuracy: 0.6019 - val_loss: 12742.9619 - val_accuracy: 0.3846\n",
      "Epoch 65/100\n",
      "2/2 [==============================] - 0s 24ms/step - loss: 8893.0244 - accuracy: 0.5146 - val_loss: 7355.6299 - val_accuracy: 0.6154\n",
      "Epoch 66/100\n",
      "2/2 [==============================] - 0s 24ms/step - loss: 7455.0146 - accuracy: 0.4272 - val_loss: 8979.2090 - val_accuracy: 0.3462\n",
      "Epoch 67/100\n",
      "2/2 [==============================] - 0s 26ms/step - loss: 4691.8828 - accuracy: 0.6214 - val_loss: 3962.7307 - val_accuracy: 0.5385\n",
      "Epoch 68/100\n",
      "2/2 [==============================] - 0s 24ms/step - loss: 3802.6765 - accuracy: 0.6117 - val_loss: 5853.5439 - val_accuracy: 0.3462\n",
      "Epoch 69/100\n",
      "2/2 [==============================] - 0s 26ms/step - loss: 4792.6592 - accuracy: 0.5728 - val_loss: 4809.7661 - val_accuracy: 0.6154\n",
      "Epoch 70/100\n",
      "2/2 [==============================] - 0s 24ms/step - loss: 6569.3574 - accuracy: 0.5146 - val_loss: 13482.9004 - val_accuracy: 0.4231\n",
      "Epoch 71/100\n",
      "2/2 [==============================] - 0s 24ms/step - loss: 8035.9023 - accuracy: 0.5243 - val_loss: 5379.8662 - val_accuracy: 0.6154\n",
      "Epoch 72/100\n",
      "2/2 [==============================] - 0s 23ms/step - loss: 4096.6030 - accuracy: 0.5728 - val_loss: 7704.3291 - val_accuracy: 0.3462\n",
      "Epoch 73/100\n",
      "2/2 [==============================] - 0s 24ms/step - loss: 5063.5942 - accuracy: 0.5728 - val_loss: 3215.8569 - val_accuracy: 0.6538\n",
      "Epoch 74/100\n",
      "2/2 [==============================] - 0s 24ms/step - loss: 5414.5996 - accuracy: 0.5243 - val_loss: 5708.5991 - val_accuracy: 0.3846\n",
      "Epoch 75/100\n",
      "2/2 [==============================] - 0s 22ms/step - loss: 6285.3604 - accuracy: 0.5534 - val_loss: 9836.1035 - val_accuracy: 0.5769\n",
      "Epoch 76/100\n",
      "2/2 [==============================] - 0s 22ms/step - loss: 8518.8564 - accuracy: 0.4660 - val_loss: 7349.1069 - val_accuracy: 0.4231\n",
      "Epoch 77/100\n",
      "2/2 [==============================] - 0s 23ms/step - loss: 4152.4600 - accuracy: 0.5922 - val_loss: 5189.7559 - val_accuracy: 0.6154\n",
      "Epoch 78/100\n",
      "2/2 [==============================] - 0s 28ms/step - loss: 3979.0078 - accuracy: 0.5437 - val_loss: 2396.1394 - val_accuracy: 0.4231\n",
      "Epoch 79/100\n",
      "2/2 [==============================] - 0s 23ms/step - loss: 2526.6826 - accuracy: 0.6602 - val_loss: 2244.8538 - val_accuracy: 0.4231\n",
      "Epoch 80/100\n",
      "2/2 [==============================] - 0s 25ms/step - loss: 1594.1417 - accuracy: 0.5825 - val_loss: 2742.9492 - val_accuracy: 0.4615\n",
      "Epoch 81/100\n",
      "2/2 [==============================] - 0s 25ms/step - loss: 2035.9977 - accuracy: 0.6408 - val_loss: 1757.0397 - val_accuracy: 0.6923\n",
      "Epoch 82/100\n",
      "2/2 [==============================] - 0s 25ms/step - loss: 2229.4346 - accuracy: 0.5825 - val_loss: 1863.4753 - val_accuracy: 0.6923\n",
      "Epoch 83/100\n",
      "2/2 [==============================] - 0s 28ms/step - loss: 2524.3113 - accuracy: 0.5922 - val_loss: 7919.7261 - val_accuracy: 0.4231\n",
      "Epoch 84/100\n",
      "2/2 [==============================] - 0s 24ms/step - loss: 5776.0767 - accuracy: 0.5340 - val_loss: 9684.1582 - val_accuracy: 0.6154\n",
      "Epoch 85/100\n",
      "2/2 [==============================] - 0s 27ms/step - loss: 11836.2344 - accuracy: 0.5049 - val_loss: 1916.0781 - val_accuracy: 0.5769\n",
      "Epoch 86/100\n",
      "2/2 [==============================] - 0s 54ms/step - loss: 6193.5791 - accuracy: 0.5340 - val_loss: 9039.2148 - val_accuracy: 0.4231\n",
      "Epoch 87/100\n",
      "2/2 [==============================] - 0s 29ms/step - loss: 7097.4932 - accuracy: 0.5437 - val_loss: 8065.5186 - val_accuracy: 0.6154\n",
      "Epoch 88/100\n",
      "2/2 [==============================] - 0s 23ms/step - loss: 6656.8643 - accuracy: 0.5534 - val_loss: 5955.5303 - val_accuracy: 0.4231\n",
      "Epoch 89/100\n",
      "2/2 [==============================] - 0s 23ms/step - loss: 4250.8315 - accuracy: 0.5631 - val_loss: 2221.2717 - val_accuracy: 0.7692\n",
      "Epoch 90/100\n",
      "2/2 [==============================] - 0s 24ms/step - loss: 3869.4873 - accuracy: 0.5146 - val_loss: 2227.7283 - val_accuracy: 0.7308\n",
      "Epoch 91/100\n",
      "2/2 [==============================] - 0s 23ms/step - loss: 2894.5352 - accuracy: 0.5922 - val_loss: 11323.5020 - val_accuracy: 0.4231\n",
      "Epoch 92/100\n",
      "2/2 [==============================] - 0s 23ms/step - loss: 8826.9424 - accuracy: 0.5146 - val_loss: 4609.7471 - val_accuracy: 0.6154\n",
      "Epoch 93/100\n",
      "2/2 [==============================] - 0s 24ms/step - loss: 4743.2729 - accuracy: 0.5437 - val_loss: 8095.9038 - val_accuracy: 0.3846\n",
      "Epoch 94/100\n",
      "2/2 [==============================] - 0s 24ms/step - loss: 5170.4507 - accuracy: 0.5340 - val_loss: 9201.4580 - val_accuracy: 0.5769\n",
      "Epoch 95/100\n",
      "2/2 [==============================] - 0s 26ms/step - loss: 10303.0898 - accuracy: 0.5049 - val_loss: 4173.0820 - val_accuracy: 0.4231\n",
      "Epoch 96/100\n",
      "2/2 [==============================] - 0s 26ms/step - loss: 4180.2817 - accuracy: 0.5728 - val_loss: 2922.0217 - val_accuracy: 0.6538\n",
      "Epoch 97/100\n",
      "2/2 [==============================] - 0s 30ms/step - loss: 3284.6792 - accuracy: 0.5728 - val_loss: 6905.0088 - val_accuracy: 0.3462\n",
      "Epoch 98/100\n",
      "2/2 [==============================] - 0s 29ms/step - loss: 3839.9946 - accuracy: 0.5728 - val_loss: 3929.0342 - val_accuracy: 0.6154\n",
      "Epoch 99/100\n",
      "2/2 [==============================] - 0s 31ms/step - loss: 3025.6062 - accuracy: 0.5534 - val_loss: 2165.7314 - val_accuracy: 0.5000\n",
      "Epoch 100/100\n",
      "2/2 [==============================] - 0s 30ms/step - loss: 2284.9326 - accuracy: 0.5825 - val_loss: 3795.1667 - val_accuracy: 0.4231\n"
     ]
    }
   ],
   "source": [
    "from keras.initializers import he_normal\n",
    "\n",
    "model = Sequential([\n",
    "    keras.layers.Dense(64, activation='relu', kernel_initializer=he_normal(), input_shape=(16,)),\n",
    "    keras.layers.Dense(64, activation='relu', kernel_initializer=he_normal()),\n",
    "    keras.layers.Dense(64, activation='relu', kernel_initializer=he_normal()),\n",
    "    keras.layers.Dense(64, activation='relu', kernel_initializer=he_normal()),\n",
    "    keras.layers.Dense(1, activation='sigmoid')\n",
    "])\n",
    "\n",
    "\n",
    "# Compile the model with a learning rate schedule\n",
    "opt = Adam(lr=1e-3)\n",
    "model.compile(loss='binary_crossentropy', optimizer=opt, metrics=['accuracy'])\n",
    "history = model.fit(x_train, y_train, epochs=100, batch_size=64, validation_data=(x_test, y_test))"
   ]
  },
  {
   "cell_type": "code",
   "execution_count": 203,
   "metadata": {},
   "outputs": [
    {
     "name": "stdout",
     "output_type": "stream",
     "text": [
      "Highest validation accuracy: 0.7692307829856873\n"
     ]
    }
   ],
   "source": [
    "print(\"Highest validation accuracy:\", max(history.history['val_accuracy']))\n"
   ]
  },
  {
   "attachments": {},
   "cell_type": "markdown",
   "metadata": {},
   "source": [
    "# Additional"
   ]
  },
  {
   "cell_type": "code",
   "execution_count": null,
   "metadata": {},
   "outputs": [],
   "source": []
  },
  {
   "cell_type": "code",
   "execution_count": 222,
   "metadata": {},
   "outputs": [],
   "source": [
    "data = data.drop(['30 min population'], axis = 1)"
   ]
  },
  {
   "cell_type": "code",
   "execution_count": 223,
   "metadata": {},
   "outputs": [],
   "source": [
    "data = data.drop(['Window'], axis = 1)\n"
   ]
  },
  {
   "cell_type": "code",
   "execution_count": 210,
   "metadata": {},
   "outputs": [
    {
     "name": "stderr",
     "output_type": "stream",
     "text": [
      "C:\\Users\\Aazhmeer Chhapra\\AppData\\Local\\Temp\\ipykernel_32212\\2544434202.py:1: UserWarning: \n",
      "\n",
      "`distplot` is a deprecated function and will be removed in seaborn v0.14.0.\n",
      "\n",
      "Please adapt your code to use either `displot` (a figure-level function with\n",
      "similar flexibility) or `histplot` (an axes-level function for histograms).\n",
      "\n",
      "For a guide to updating your code to use the new functions, please see\n",
      "https://gist.github.com/mwaskom/de44147ed2974457ad6372750bbe5751\n",
      "\n",
      "  sns.distplot(data['10 min population'])\n"
     ]
    },
    {
     "data": {
      "text/plain": [
       "<Axes: xlabel='10 min population', ylabel='Density'>"
      ]
     },
     "execution_count": 210,
     "metadata": {},
     "output_type": "execute_result"
    },
    {
     "data": {
      "image/png": "[encoded data removed]",
      "text/plain": [
       "<Figure size 640x480 with 1 Axes>"
      ]
     },
     "metadata": {},
     "output_type": "display_data"
    }
   ],
   "source": [
    "sns.distplot(data['10 min population'])"
   ]
  },
  {
   "cell_type": "code",
   "execution_count": 225,
   "metadata": {},
   "outputs": [
    {
     "name": "stderr",
     "output_type": "stream",
     "text": [
      "C:\\Users\\Aazhmeer Chhapra\\AppData\\Local\\Temp\\ipykernel_32212\\1023278999.py:3: UserWarning: \n",
      "\n",
      "`distplot` is a deprecated function and will be removed in seaborn v0.14.0.\n",
      "\n",
      "Please adapt your code to use either `displot` (a figure-level function with\n",
      "similar flexibility) or `histplot` (an axes-level function for histograms).\n",
      "\n",
      "For a guide to updating your code to use the new functions, please see\n",
      "https://gist.github.com/mwaskom/de44147ed2974457ad6372750bbe5751\n",
      "\n",
      "  sns.distplot(data3['10 min population'])\n"
     ]
    },
    {
     "data": {
      "text/plain": [
       "<Axes: xlabel='10 min population', ylabel='Density'>"
      ]
     },
     "execution_count": 225,
     "metadata": {},
     "output_type": "execute_result"
    },
    {
     "data": {
      "image/png": "[encoded data removed]",
      "text/plain": [
       "<Figure size 640x480 with 1 Axes>"
      ]
     },
     "metadata": {},
     "output_type": "display_data"
    }
   ],
   "source": [
    "q = data['10 min population'].quantile(0.95)\n",
    "data3 = data[data['10 min population']<q]\n",
    "sns.distplot(data3['10 min population'])\n",
    "\n"
   ]
  },
  {
   "cell_type": "code",
   "execution_count": 270,
   "metadata": {},
   "outputs": [],
   "source": [
    "inputs2 = data3.drop(['Performance'], axis = 1)\n",
    "targets2 = data3['Performance']"
   ]
  },
  {
   "cell_type": "code",
   "execution_count": 271,
   "metadata": {},
   "outputs": [],
   "source": [
    "x_train, x_test, y_train, y_test = train_test_split(inputs2, targets2, test_size = 0.2,random_state = 0)\n"
   ]
  },
  {
   "cell_type": "code",
   "execution_count": 272,
   "metadata": {},
   "outputs": [
    {
     "data": {
      "text/plain": [
       "Country               0\n",
       "Store ID              0\n",
       "Staff                 0\n",
       "Floor Space           0\n",
       "Car park              0\n",
       "Demographic score     0\n",
       "Location              0\n",
       "40min population      0\n",
       "20 min population     0\n",
       "10 min population     0\n",
       "Store age             0\n",
       "Clearance space       0\n",
       "Competition number    0\n",
       "Competition score     0\n",
       "Performance           0\n",
       "dtype: int64"
      ]
     },
     "execution_count": 272,
     "metadata": {},
     "output_type": "execute_result"
    }
   ],
   "source": [
    "data3.isnull().sum()\n"
   ]
  },
  {
   "cell_type": "code",
   "execution_count": 233,
   "metadata": {},
   "outputs": [],
   "source": [
    "data3 = data3.dropna(axis =0)"
   ]
  },
  {
   "cell_type": "code",
   "execution_count": 258,
   "metadata": {},
   "outputs": [],
   "source": [
    "from scipy.stats import uniform\n",
    "from keras.wrappers.scikit_learn import KerasClassifier\n",
    "search_space = {'penalty': Categorical(['l1', 'l2']),\n",
    "                'C': uniform(loc=0, scale=4),\n",
    "                'solver': Categorical(['liblinear','saga']),\n",
    "                'max_iter': np.arange(50, 1001)}"
   ]
  },
  {
   "cell_type": "code",
   "execution_count": 274,
   "metadata": {},
   "outputs": [],
   "source": [
    "lr2 = LogisticRegression()"
   ]
  },
  {
   "cell_type": "code",
   "execution_count": 275,
   "metadata": {},
   "outputs": [],
   "source": [
    "bayes_cv = RandomizedSearchCV(lr2, search_space, cv=5, n_iter=50, n_jobs=-1)\n"
   ]
  },
  {
   "cell_type": "code",
   "execution_count": 273,
   "metadata": {},
   "outputs": [
    {
     "data": {
      "text/plain": [
       "Country               0\n",
       "Store ID              0\n",
       "Staff                 0\n",
       "Floor Space           0\n",
       "Car park              0\n",
       "Demographic score     0\n",
       "Location              0\n",
       "40min population      0\n",
       "20 min population     0\n",
       "10 min population     0\n",
       "Store age             0\n",
       "Clearance space       0\n",
       "Competition number    0\n",
       "Competition score     0\n",
       "dtype: int64"
      ]
     },
     "execution_count": 273,
     "metadata": {},
     "output_type": "execute_result"
    }
   ],
   "source": [
    "x_train.isnull().sum()\n",
    "# x_train = x_train.dropna(axis=0)"
   ]
  },
  {
   "cell_type": "code",
   "execution_count": 276,
   "metadata": {},
   "outputs": [
    {
     "data": {
      "text/html": [
       "<style>#sk-container-id-16 {color: black;background-color: white;}#sk-container-id-16 pre{padding: 0;}#sk-container-id-16 div.sk-toggleable {background-color: white;}#sk-container-id-16 label.sk-toggleable__label {cursor: pointer;display: block;width: 100%;margin-bottom: 0;padding: 0.3em;box-sizing: border-box;text-align: center;}#sk-container-id-16 label.sk-toggleable__label-arrow:before {content: \"▸\";float: left;margin-right: 0.25em;color: #696969;}#sk-container-id-16 label.sk-toggleable__label-arrow:hover:before {color: black;}#sk-container-id-16 div.sk-estimator:hover label.sk-toggleable__label-arrow:before {color: black;}#sk-container-id-16 div.sk-toggleable__content {max-height: 0;max-width: 0;overflow: hidden;text-align: left;background-color: #f0f8ff;}#sk-container-id-16 div.sk-toggleable__content pre {margin: 0.2em;color: black;border-radius: 0.25em;background-color: #f0f8ff;}#sk-container-id-16 input.sk-toggleable__control:checked~div.sk-toggleable__content {max-height: 200px;max-width: 100%;overflow: auto;}#sk-container-id-16 input.sk-toggleable__control:checked~label.sk-toggleable__label-arrow:before {content: \"▾\";}#sk-container-id-16 div.sk-estimator input.sk-toggleable__control:checked~label.sk-toggleable__label {background-color: #d4ebff;}#sk-container-id-16 div.sk-label input.sk-toggleable__control:checked~label.sk-toggleable__label {background-color: #d4ebff;}#sk-container-id-16 input.sk-hidden--visually {border: 0;clip: rect(1px 1px 1px 1px);clip: rect(1px, 1px, 1px, 1px);height: 1px;margin: -1px;overflow: hidden;padding: 0;position: absolute;width: 1px;}#sk-container-id-16 div.sk-estimator {font-family: monospace;background-color: #f0f8ff;border: 1px dotted black;border-radius: 0.25em;box-sizing: border-box;margin-bottom: 0.5em;}#sk-container-id-16 div.sk-estimator:hover {background-color: #d4ebff;}#sk-container-id-16 div.sk-parallel-item::after {content: \"\";width: 100%;border-bottom: 1px solid gray;flex-grow: 1;}#sk-container-id-16 div.sk-label:hover label.sk-toggleable__label {background-color: #d4ebff;}#sk-container-id-16 div.sk-serial::before {content: \"\";position: absolute;border-left: 1px solid gray;box-sizing: border-box;top: 0;bottom: 0;left: 50%;z-index: 0;}#sk-container-id-16 div.sk-serial {display: flex;flex-direction: column;align-items: center;background-color: white;padding-right: 0.2em;padding-left: 0.2em;position: relative;}#sk-container-id-16 div.sk-item {position: relative;z-index: 1;}#sk-container-id-16 div.sk-parallel {display: flex;align-items: stretch;justify-content: center;background-color: white;position: relative;}#sk-container-id-16 div.sk-item::before, #sk-container-id-16 div.sk-parallel-item::before {content: \"\";position: absolute;border-left: 1px solid gray;box-sizing: border-box;top: 0;bottom: 0;left: 50%;z-index: -1;}#sk-container-id-16 div.sk-parallel-item {display: flex;flex-direction: column;z-index: 1;position: relative;background-color: white;}#sk-container-id-16 div.sk-parallel-item:first-child::after {align-self: flex-end;width: 50%;}#sk-container-id-16 div.sk-parallel-item:last-child::after {align-self: flex-start;width: 50%;}#sk-container-id-16 div.sk-parallel-item:only-child::after {width: 0;}#sk-container-id-16 div.sk-dashed-wrapped {border: 1px dashed gray;margin: 0 0.4em 0.5em 0.4em;box-sizing: border-box;padding-bottom: 0.4em;background-color: white;}#sk-container-id-16 div.sk-label label {font-family: monospace;font-weight: bold;display: inline-block;line-height: 1.2em;}#sk-container-id-16 div.sk-label-container {text-align: center;}#sk-container-id-16 div.sk-container {/* jupyter's `normalize.less` sets `[hidden] { display: none; }` but bootstrap.min.css set `[hidden] { display: none !important; }` so we also need the `!important` here to be able to override the default hidden behavior on the sphinx rendered scikit-learn.org. See: https://github.com/scikit-learn/scikit-learn/issues/21755 */display: inline-block !important;position: relative;}#sk-container-id-16 div.sk-text-repr-fallback {display: none;}</style><div id=\"sk-container-id-16\" class=\"sk-top-container\"><div class=\"sk-text-repr-fallback\"><pre>RandomizedSearchCV(cv=5, estimator=LogisticRegression(), n_iter=50, n_jobs=-1,\n",
       "                   param_distributions={&#x27;C&#x27;: &lt;scipy.stats._distn_infrastructure.rv_continuous_frozen object at 0x0000021123DAC7C0&gt;,\n",
       "                                        &#x27;max_iter&#x27;: array([  50,   51,   52,   53,   54,   55,   56,   57,   58,   59,   60,\n",
       "         61,   62,   63,   64,   65,   66,   67,   68,   69,   70,   71,\n",
       "         72,   73,   74,   75,   76,   77,   78,   79,   80,   81,   82,\n",
       "         83,   84,   85,   86,   87,   88,   89,   90,   91,   92,   93,\n",
       "         94,   95,   96,   97,   98,   99...\n",
       "        941,  942,  943,  944,  945,  946,  947,  948,  949,  950,  951,\n",
       "        952,  953,  954,  955,  956,  957,  958,  959,  960,  961,  962,\n",
       "        963,  964,  965,  966,  967,  968,  969,  970,  971,  972,  973,\n",
       "        974,  975,  976,  977,  978,  979,  980,  981,  982,  983,  984,\n",
       "        985,  986,  987,  988,  989,  990,  991,  992,  993,  994,  995,\n",
       "        996,  997,  998,  999, 1000]),\n",
       "                                        &#x27;penalty&#x27;: Categorical(categories=(&#x27;l1&#x27;, &#x27;l2&#x27;), prior=None),\n",
       "                                        &#x27;solver&#x27;: Categorical(categories=(&#x27;liblinear&#x27;, &#x27;saga&#x27;), prior=None)})</pre><b>In a Jupyter environment, please rerun this cell to show the HTML representation or trust the notebook. <br />On GitHub, the HTML representation is unable to render, please try loading this page with nbviewer.org.</b></div><div class=\"sk-container\" hidden><div class=\"sk-item sk-dashed-wrapped\"><div class=\"sk-label-container\"><div class=\"sk-label sk-toggleable\"><input class=\"sk-toggleable__control sk-hidden--visually\" id=\"sk-estimator-id-42\" type=\"checkbox\" ><label for=\"sk-estimator-id-42\" class=\"sk-toggleable__label sk-toggleable__label-arrow\">RandomizedSearchCV</label><div class=\"sk-toggleable__content\"><pre>RandomizedSearchCV(cv=5, estimator=LogisticRegression(), n_iter=50, n_jobs=-1,\n",
       "                   param_distributions={&#x27;C&#x27;: &lt;scipy.stats._distn_infrastructure.rv_continuous_frozen object at 0x0000021123DAC7C0&gt;,\n",
       "                                        &#x27;max_iter&#x27;: array([  50,   51,   52,   53,   54,   55,   56,   57,   58,   59,   60,\n",
       "         61,   62,   63,   64,   65,   66,   67,   68,   69,   70,   71,\n",
       "         72,   73,   74,   75,   76,   77,   78,   79,   80,   81,   82,\n",
       "         83,   84,   85,   86,   87,   88,   89,   90,   91,   92,   93,\n",
       "         94,   95,   96,   97,   98,   99...\n",
       "        941,  942,  943,  944,  945,  946,  947,  948,  949,  950,  951,\n",
       "        952,  953,  954,  955,  956,  957,  958,  959,  960,  961,  962,\n",
       "        963,  964,  965,  966,  967,  968,  969,  970,  971,  972,  973,\n",
       "        974,  975,  976,  977,  978,  979,  980,  981,  982,  983,  984,\n",
       "        985,  986,  987,  988,  989,  990,  991,  992,  993,  994,  995,\n",
       "        996,  997,  998,  999, 1000]),\n",
       "                                        &#x27;penalty&#x27;: Categorical(categories=(&#x27;l1&#x27;, &#x27;l2&#x27;), prior=None),\n",
       "                                        &#x27;solver&#x27;: Categorical(categories=(&#x27;liblinear&#x27;, &#x27;saga&#x27;), prior=None)})</pre></div></div></div><div class=\"sk-parallel\"><div class=\"sk-parallel-item\"><div class=\"sk-item\"><div class=\"sk-label-container\"><div class=\"sk-label sk-toggleable\"><input class=\"sk-toggleable__control sk-hidden--visually\" id=\"sk-estimator-id-43\" type=\"checkbox\" ><label for=\"sk-estimator-id-43\" class=\"sk-toggleable__label sk-toggleable__label-arrow\">estimator: LogisticRegression</label><div class=\"sk-toggleable__content\"><pre>LogisticRegression()</pre></div></div></div><div class=\"sk-serial\"><div class=\"sk-item\"><div class=\"sk-estimator sk-toggleable\"><input class=\"sk-toggleable__control sk-hidden--visually\" id=\"sk-estimator-id-44\" type=\"checkbox\" ><label for=\"sk-estimator-id-44\" class=\"sk-toggleable__label sk-toggleable__label-arrow\">LogisticRegression</label><div class=\"sk-toggleable__content\"><pre>LogisticRegression()</pre></div></div></div></div></div></div></div></div></div></div>"
      ],
      "text/plain": [
       "RandomizedSearchCV(cv=5, estimator=LogisticRegression(), n_iter=50, n_jobs=-1,\n",
       "                   param_distributions={'C': <scipy.stats._distn_infrastructure.rv_continuous_frozen object at 0x0000021123DAC7C0>,\n",
       "                                        'max_iter': array([  50,   51,   52,   53,   54,   55,   56,   57,   58,   59,   60,\n",
       "         61,   62,   63,   64,   65,   66,   67,   68,   69,   70,   71,\n",
       "         72,   73,   74,   75,   76,   77,   78,   79,   80,   81,   82,\n",
       "         83,   84,   85,   86,   87,   88,   89,   90,   91,   92,   93,\n",
       "         94,   95,   96,   97,   98,   99...\n",
       "        941,  942,  943,  944,  945,  946,  947,  948,  949,  950,  951,\n",
       "        952,  953,  954,  955,  956,  957,  958,  959,  960,  961,  962,\n",
       "        963,  964,  965,  966,  967,  968,  969,  970,  971,  972,  973,\n",
       "        974,  975,  976,  977,  978,  979,  980,  981,  982,  983,  984,\n",
       "        985,  986,  987,  988,  989,  990,  991,  992,  993,  994,  995,\n",
       "        996,  997,  998,  999, 1000]),\n",
       "                                        'penalty': Categorical(categories=('l1', 'l2'), prior=None),\n",
       "                                        'solver': Categorical(categories=('liblinear', 'saga'), prior=None)})"
      ]
     },
     "execution_count": 276,
     "metadata": {},
     "output_type": "execute_result"
    }
   ],
   "source": [
    "bayes_cv.fit(x_train, y_train)"
   ]
  },
  {
   "cell_type": "code",
   "execution_count": 277,
   "metadata": {},
   "outputs": [],
   "source": [
    "y= bayes_cv.predict(x_test)"
   ]
  },
  {
   "cell_type": "code",
   "execution_count": 278,
   "metadata": {},
   "outputs": [
    {
     "data": {
      "text/plain": [
       "0.76"
      ]
     },
     "execution_count": 278,
     "metadata": {},
     "output_type": "execute_result"
    }
   ],
   "source": [
    "scoresss = accuracy_score(y_test, y)\n",
    "scoresss"
   ]
  },
  {
   "cell_type": "code",
   "execution_count": 279,
   "metadata": {},
   "outputs": [
    {
     "name": "stdout",
     "output_type": "stream",
     "text": [
      "Best hyperparameters: {'C': 0.5974016294971691, 'max_iter': 795, 'penalty': 'l1', 'solver': 'liblinear'}\n"
     ]
    }
   ],
   "source": [
    "print(\"Best hyperparameters:\", bayes_cv.best_params_)\n"
   ]
  },
  {
   "cell_type": "code",
   "execution_count": 312,
   "metadata": {},
   "outputs": [],
   "source": [
    "search_space = {\n",
    "    'criterion': Categorical(['gini', 'entropy']),\n",
    "    'max_depth': Integer(1, 100),\n",
    "    'min_samples_split': Integer(2, 50),\n",
    "    'min_samples_leaf': Integer(2, 30),\n",
    "    'max_features': Categorical(['sqrt', 'log2', None]),\n",
    "    'ccp_alpha': Real(0.0, 1.0),\n",
    "    'class_weight': Categorical([None, 'balanced'])\n",
    "}"
   ]
  },
  {
   "cell_type": "code",
   "execution_count": 308,
   "metadata": {},
   "outputs": [],
   "source": [
    "dts = DecisionTreeClassifier(random_state=4)"
   ]
  },
  {
   "cell_type": "code",
   "execution_count": 313,
   "metadata": {},
   "outputs": [
    {
     "data": {
      "text/html": [
       "<style>#sk-container-id-19 {color: black;background-color: white;}#sk-container-id-19 pre{padding: 0;}#sk-container-id-19 div.sk-toggleable {background-color: white;}#sk-container-id-19 label.sk-toggleable__label {cursor: pointer;display: block;width: 100%;margin-bottom: 0;padding: 0.3em;box-sizing: border-box;text-align: center;}#sk-container-id-19 label.sk-toggleable__label-arrow:before {content: \"▸\";float: left;margin-right: 0.25em;color: #696969;}#sk-container-id-19 label.sk-toggleable__label-arrow:hover:before {color: black;}#sk-container-id-19 div.sk-estimator:hover label.sk-toggleable__label-arrow:before {color: black;}#sk-container-id-19 div.sk-toggleable__content {max-height: 0;max-width: 0;overflow: hidden;text-align: left;background-color: #f0f8ff;}#sk-container-id-19 div.sk-toggleable__content pre {margin: 0.2em;color: black;border-radius: 0.25em;background-color: #f0f8ff;}#sk-container-id-19 input.sk-toggleable__control:checked~div.sk-toggleable__content {max-height: 200px;max-width: 100%;overflow: auto;}#sk-container-id-19 input.sk-toggleable__control:checked~label.sk-toggleable__label-arrow:before {content: \"▾\";}#sk-container-id-19 div.sk-estimator input.sk-toggleable__control:checked~label.sk-toggleable__label {background-color: #d4ebff;}#sk-container-id-19 div.sk-label input.sk-toggleable__control:checked~label.sk-toggleable__label {background-color: #d4ebff;}#sk-container-id-19 input.sk-hidden--visually {border: 0;clip: rect(1px 1px 1px 1px);clip: rect(1px, 1px, 1px, 1px);height: 1px;margin: -1px;overflow: hidden;padding: 0;position: absolute;width: 1px;}#sk-container-id-19 div.sk-estimator {font-family: monospace;background-color: #f0f8ff;border: 1px dotted black;border-radius: 0.25em;box-sizing: border-box;margin-bottom: 0.5em;}#sk-container-id-19 div.sk-estimator:hover {background-color: #d4ebff;}#sk-container-id-19 div.sk-parallel-item::after {content: \"\";width: 100%;border-bottom: 1px solid gray;flex-grow: 1;}#sk-container-id-19 div.sk-label:hover label.sk-toggleable__label {background-color: #d4ebff;}#sk-container-id-19 div.sk-serial::before {content: \"\";position: absolute;border-left: 1px solid gray;box-sizing: border-box;top: 0;bottom: 0;left: 50%;z-index: 0;}#sk-container-id-19 div.sk-serial {display: flex;flex-direction: column;align-items: center;background-color: white;padding-right: 0.2em;padding-left: 0.2em;position: relative;}#sk-container-id-19 div.sk-item {position: relative;z-index: 1;}#sk-container-id-19 div.sk-parallel {display: flex;align-items: stretch;justify-content: center;background-color: white;position: relative;}#sk-container-id-19 div.sk-item::before, #sk-container-id-19 div.sk-parallel-item::before {content: \"\";position: absolute;border-left: 1px solid gray;box-sizing: border-box;top: 0;bottom: 0;left: 50%;z-index: -1;}#sk-container-id-19 div.sk-parallel-item {display: flex;flex-direction: column;z-index: 1;position: relative;background-color: white;}#sk-container-id-19 div.sk-parallel-item:first-child::after {align-self: flex-end;width: 50%;}#sk-container-id-19 div.sk-parallel-item:last-child::after {align-self: flex-start;width: 50%;}#sk-container-id-19 div.sk-parallel-item:only-child::after {width: 0;}#sk-container-id-19 div.sk-dashed-wrapped {border: 1px dashed gray;margin: 0 0.4em 0.5em 0.4em;box-sizing: border-box;padding-bottom: 0.4em;background-color: white;}#sk-container-id-19 div.sk-label label {font-family: monospace;font-weight: bold;display: inline-block;line-height: 1.2em;}#sk-container-id-19 div.sk-label-container {text-align: center;}#sk-container-id-19 div.sk-container {/* jupyter's `normalize.less` sets `[hidden] { display: none; }` but bootstrap.min.css set `[hidden] { display: none !important; }` so we also need the `!important` here to be able to override the default hidden behavior on the sphinx rendered scikit-learn.org. See: https://github.com/scikit-learn/scikit-learn/issues/21755 */display: inline-block !important;position: relative;}#sk-container-id-19 div.sk-text-repr-fallback {display: none;}</style><div id=\"sk-container-id-19\" class=\"sk-top-container\"><div class=\"sk-text-repr-fallback\"><pre>BayesSearchCV(estimator=DecisionTreeClassifier(random_state=4), n_iter=100,\n",
       "              n_jobs=-1,\n",
       "              search_spaces={&#x27;ccp_alpha&#x27;: Real(low=0.0, high=1.0, prior=&#x27;uniform&#x27;, transform=&#x27;normalize&#x27;),\n",
       "                             &#x27;class_weight&#x27;: Categorical(categories=(None, &#x27;balanced&#x27;), prior=None),\n",
       "                             &#x27;criterion&#x27;: Categorical(categories=(&#x27;gini&#x27;, &#x27;entropy&#x27;), prior=None),\n",
       "                             &#x27;max_depth&#x27;: Integer(low=1, high=100, prior=&#x27;uniform&#x27;, transform=&#x27;normalize&#x27;),\n",
       "                             &#x27;max_features&#x27;: Categorical(categories=(&#x27;sqrt&#x27;, &#x27;log2&#x27;, None), prior=None),\n",
       "                             &#x27;min_samples_leaf&#x27;: Integer(low=2, high=30, prior=&#x27;uniform&#x27;, transform=&#x27;normalize&#x27;),\n",
       "                             &#x27;min_samples_split&#x27;: Integer(low=2, high=50, prior=&#x27;uniform&#x27;, transform=&#x27;normalize&#x27;)})</pre><b>In a Jupyter environment, please rerun this cell to show the HTML representation or trust the notebook. <br />On GitHub, the HTML representation is unable to render, please try loading this page with nbviewer.org.</b></div><div class=\"sk-container\" hidden><div class=\"sk-item sk-dashed-wrapped\"><div class=\"sk-label-container\"><div class=\"sk-label sk-toggleable\"><input class=\"sk-toggleable__control sk-hidden--visually\" id=\"sk-estimator-id-51\" type=\"checkbox\" ><label for=\"sk-estimator-id-51\" class=\"sk-toggleable__label sk-toggleable__label-arrow\">BayesSearchCV</label><div class=\"sk-toggleable__content\"><pre>BayesSearchCV(estimator=DecisionTreeClassifier(random_state=4), n_iter=100,\n",
       "              n_jobs=-1,\n",
       "              search_spaces={&#x27;ccp_alpha&#x27;: Real(low=0.0, high=1.0, prior=&#x27;uniform&#x27;, transform=&#x27;normalize&#x27;),\n",
       "                             &#x27;class_weight&#x27;: Categorical(categories=(None, &#x27;balanced&#x27;), prior=None),\n",
       "                             &#x27;criterion&#x27;: Categorical(categories=(&#x27;gini&#x27;, &#x27;entropy&#x27;), prior=None),\n",
       "                             &#x27;max_depth&#x27;: Integer(low=1, high=100, prior=&#x27;uniform&#x27;, transform=&#x27;normalize&#x27;),\n",
       "                             &#x27;max_features&#x27;: Categorical(categories=(&#x27;sqrt&#x27;, &#x27;log2&#x27;, None), prior=None),\n",
       "                             &#x27;min_samples_leaf&#x27;: Integer(low=2, high=30, prior=&#x27;uniform&#x27;, transform=&#x27;normalize&#x27;),\n",
       "                             &#x27;min_samples_split&#x27;: Integer(low=2, high=50, prior=&#x27;uniform&#x27;, transform=&#x27;normalize&#x27;)})</pre></div></div></div><div class=\"sk-parallel\"><div class=\"sk-parallel-item\"><div class=\"sk-item\"><div class=\"sk-label-container\"><div class=\"sk-label sk-toggleable\"><input class=\"sk-toggleable__control sk-hidden--visually\" id=\"sk-estimator-id-52\" type=\"checkbox\" ><label for=\"sk-estimator-id-52\" class=\"sk-toggleable__label sk-toggleable__label-arrow\">estimator: DecisionTreeClassifier</label><div class=\"sk-toggleable__content\"><pre>DecisionTreeClassifier(random_state=4)</pre></div></div></div><div class=\"sk-serial\"><div class=\"sk-item\"><div class=\"sk-estimator sk-toggleable\"><input class=\"sk-toggleable__control sk-hidden--visually\" id=\"sk-estimator-id-53\" type=\"checkbox\" ><label for=\"sk-estimator-id-53\" class=\"sk-toggleable__label sk-toggleable__label-arrow\">DecisionTreeClassifier</label><div class=\"sk-toggleable__content\"><pre>DecisionTreeClassifier(random_state=4)</pre></div></div></div></div></div></div></div></div></div></div>"
      ],
      "text/plain": [
       "BayesSearchCV(estimator=DecisionTreeClassifier(random_state=4), n_iter=100,\n",
       "              n_jobs=-1,\n",
       "              search_spaces={'ccp_alpha': Real(low=0.0, high=1.0, prior='uniform', transform='normalize'),\n",
       "                             'class_weight': Categorical(categories=(None, 'balanced'), prior=None),\n",
       "                             'criterion': Categorical(categories=('gini', 'entropy'), prior=None),\n",
       "                             'max_depth': Integer(low=1, high=100, prior='uniform', transform='normalize'),\n",
       "                             'max_features': Categorical(categories=('sqrt', 'log2', None), prior=None),\n",
       "                             'min_samples_leaf': Integer(low=2, high=30, prior='uniform', transform='normalize'),\n",
       "                             'min_samples_split': Integer(low=2, high=50, prior='uniform', transform='normalize')})"
      ]
     },
     "execution_count": 313,
     "metadata": {},
     "output_type": "execute_result"
    }
   ],
   "source": [
    "opts = BayesSearchCV(dts, search_space, n_iter=100, n_jobs=-1)\n",
    "\n",
    "# Fit the BayesSearchCV object to the data\n",
    "opts.fit(x_train, y_train)"
   ]
  },
  {
   "cell_type": "code",
   "execution_count": 314,
   "metadata": {},
   "outputs": [
    {
     "data": {
      "text/plain": [
       "0.52"
      ]
     },
     "execution_count": 314,
     "metadata": {},
     "output_type": "execute_result"
    }
   ],
   "source": [
    "preds = opts.predict(x_test)\n",
    "scoress = accuracy_score(y_test, preds)\n",
    "scoress"
   ]
  },
  {
   "cell_type": "code",
   "execution_count": 294,
   "metadata": {},
   "outputs": [
    {
     "name": "stdout",
     "output_type": "stream",
     "text": [
      "Best hyperparameters: OrderedDict([('ccp_alpha', 0.0), ('class_weight', None), ('criterion', 'entropy'), ('max_depth', 20), ('max_features', 'sqrt'), ('min_samples_leaf', 30), ('min_samples_split', 2)])\n"
     ]
    }
   ],
   "source": [
    "print(\"Best hyperparameters:\",opts.best_params_)\n"
   ]
  },
  {
   "cell_type": "code",
   "execution_count": 315,
   "metadata": {},
   "outputs": [
    {
     "name": "stderr",
     "output_type": "stream",
     "text": [
      "d:\\Anaconda\\envs\\tf_gpucheck\\lib\\site-packages\\keras\\optimizer_v2\\optimizer_v2.py:355: UserWarning: The `lr` argument is deprecated, use `learning_rate` instead.\n",
      "  warnings.warn(\n"
     ]
    },
    {
     "name": "stdout",
     "output_type": "stream",
     "text": [
      "Epoch 1/100\n",
      "2/2 [==============================] - 1s 172ms/step - loss: 127520.6094 - accuracy: 0.5306 - val_loss: 102740.0391 - val_accuracy: 0.3600\n",
      "Epoch 2/100\n",
      "2/2 [==============================] - 0s 46ms/step - loss: 58800.1016 - accuracy: 0.5306 - val_loss: 12750.1279 - val_accuracy: 0.3200\n",
      "Epoch 3/100\n",
      "2/2 [==============================] - 0s 31ms/step - loss: 22672.5273 - accuracy: 0.5000 - val_loss: 33029.3789 - val_accuracy: 0.6400\n",
      "Epoch 4/100\n",
      "2/2 [==============================] - 0s 47ms/step - loss: 46126.1875 - accuracy: 0.4694 - val_loss: 28970.3203 - val_accuracy: 0.6000\n",
      "Epoch 5/100\n",
      "2/2 [==============================] - 0s 41ms/step - loss: 34100.2891 - accuracy: 0.4796 - val_loss: 13880.4180 - val_accuracy: 0.4000\n",
      "Epoch 6/100\n",
      "2/2 [==============================] - 0s 32ms/step - loss: 7694.6958 - accuracy: 0.6224 - val_loss: 36203.8633 - val_accuracy: 0.3600\n",
      "Epoch 7/100\n",
      "2/2 [==============================] - 0s 35ms/step - loss: 23545.5391 - accuracy: 0.5306 - val_loss: 48500.5312 - val_accuracy: 0.3600\n",
      "Epoch 8/100\n",
      "2/2 [==============================] - 0s 33ms/step - loss: 29604.4434 - accuracy: 0.5306 - val_loss: 36248.8867 - val_accuracy: 0.3600\n",
      "Epoch 9/100\n",
      "2/2 [==============================] - 0s 27ms/step - loss: 18241.3555 - accuracy: 0.5408 - val_loss: 15317.8740 - val_accuracy: 0.3600\n",
      "Epoch 10/100\n",
      "2/2 [==============================] - 0s 22ms/step - loss: 9055.6914 - accuracy: 0.4286 - val_loss: 17644.5195 - val_accuracy: 0.5600\n",
      "Epoch 11/100\n",
      "2/2 [==============================] - 0s 23ms/step - loss: 18054.9805 - accuracy: 0.5000 - val_loss: 17831.4648 - val_accuracy: 0.6000\n",
      "Epoch 12/100\n",
      "2/2 [==============================] - 0s 24ms/step - loss: 15773.7197 - accuracy: 0.5000 - val_loss: 13431.6123 - val_accuracy: 0.4800\n",
      "Epoch 13/100\n",
      "2/2 [==============================] - 0s 25ms/step - loss: 5841.9893 - accuracy: 0.4796 - val_loss: 19980.1895 - val_accuracy: 0.4400\n",
      "Epoch 14/100\n",
      "2/2 [==============================] - 0s 21ms/step - loss: 11957.7744 - accuracy: 0.5510 - val_loss: 23107.6309 - val_accuracy: 0.3600\n",
      "Epoch 15/100\n",
      "2/2 [==============================] - 0s 26ms/step - loss: 11772.8652 - accuracy: 0.5306 - val_loss: 11523.6025 - val_accuracy: 0.3600\n",
      "Epoch 16/100\n",
      "2/2 [==============================] - 0s 28ms/step - loss: 5231.0771 - accuracy: 0.5816 - val_loss: 12008.9072 - val_accuracy: 0.6000\n",
      "Epoch 17/100\n",
      "2/2 [==============================] - 0s 25ms/step - loss: 9769.8535 - accuracy: 0.5408 - val_loss: 12470.0576 - val_accuracy: 0.6000\n",
      "Epoch 18/100\n",
      "2/2 [==============================] - 0s 24ms/step - loss: 9262.1953 - accuracy: 0.5510 - val_loss: 9250.5674 - val_accuracy: 0.4400\n",
      "Epoch 19/100\n",
      "2/2 [==============================] - 0s 24ms/step - loss: 5757.1851 - accuracy: 0.5918 - val_loss: 15349.3447 - val_accuracy: 0.2800\n",
      "Epoch 20/100\n",
      "2/2 [==============================] - 0s 23ms/step - loss: 7703.4893 - accuracy: 0.5714 - val_loss: 13835.5117 - val_accuracy: 0.2800\n",
      "Epoch 21/100\n",
      "2/2 [==============================] - 0s 25ms/step - loss: 6062.9624 - accuracy: 0.5714 - val_loss: 8646.3428 - val_accuracy: 0.4400\n",
      "Epoch 22/100\n",
      "2/2 [==============================] - 0s 25ms/step - loss: 5314.6382 - accuracy: 0.5612 - val_loss: 9430.6104 - val_accuracy: 0.5600\n",
      "Epoch 23/100\n",
      "2/2 [==============================] - 0s 28ms/step - loss: 6212.1353 - accuracy: 0.5612 - val_loss: 8666.2461 - val_accuracy: 0.4000\n",
      "Epoch 24/100\n",
      "2/2 [==============================] - 0s 34ms/step - loss: 4796.3696 - accuracy: 0.5918 - val_loss: 11445.2852 - val_accuracy: 0.3600\n",
      "Epoch 25/100\n",
      "2/2 [==============================] - 0s 38ms/step - loss: 5190.1079 - accuracy: 0.6327 - val_loss: 9673.2539 - val_accuracy: 0.3600\n",
      "Epoch 26/100\n",
      "2/2 [==============================] - 0s 28ms/step - loss: 3824.3882 - accuracy: 0.6122 - val_loss: 8866.4502 - val_accuracy: 0.4400\n",
      "Epoch 27/100\n",
      "2/2 [==============================] - 0s 33ms/step - loss: 4983.7139 - accuracy: 0.5816 - val_loss: 8397.7744 - val_accuracy: 0.4400\n",
      "Epoch 28/100\n",
      "2/2 [==============================] - 0s 33ms/step - loss: 3965.6736 - accuracy: 0.5918 - val_loss: 11013.5938 - val_accuracy: 0.3200\n",
      "Epoch 29/100\n",
      "2/2 [==============================] - 0s 31ms/step - loss: 4954.3047 - accuracy: 0.5816 - val_loss: 9980.2275 - val_accuracy: 0.4000\n",
      "Epoch 30/100\n",
      "2/2 [==============================] - 0s 32ms/step - loss: 3723.7761 - accuracy: 0.6224 - val_loss: 7867.4448 - val_accuracy: 0.4000\n",
      "Epoch 31/100\n",
      "2/2 [==============================] - 0s 25ms/step - loss: 4535.1108 - accuracy: 0.5918 - val_loss: 8032.6934 - val_accuracy: 0.4800\n",
      "Epoch 32/100\n",
      "2/2 [==============================] - 0s 23ms/step - loss: 3479.1970 - accuracy: 0.6122 - val_loss: 10491.9121 - val_accuracy: 0.4000\n",
      "Epoch 33/100\n",
      "2/2 [==============================] - 0s 22ms/step - loss: 4241.5776 - accuracy: 0.5816 - val_loss: 9551.4629 - val_accuracy: 0.4000\n",
      "Epoch 34/100\n",
      "2/2 [==============================] - 0s 22ms/step - loss: 3866.7705 - accuracy: 0.6429 - val_loss: 8082.3877 - val_accuracy: 0.4400\n",
      "Epoch 35/100\n",
      "2/2 [==============================] - 0s 22ms/step - loss: 3554.9502 - accuracy: 0.6224 - val_loss: 8029.7651 - val_accuracy: 0.4800\n",
      "Epoch 36/100\n",
      "2/2 [==============================] - 0s 78ms/step - loss: 3414.3572 - accuracy: 0.6020 - val_loss: 9186.3271 - val_accuracy: 0.3600\n",
      "Epoch 37/100\n",
      "2/2 [==============================] - 0s 29ms/step - loss: 3135.3291 - accuracy: 0.6429 - val_loss: 7727.6582 - val_accuracy: 0.4800\n",
      "Epoch 38/100\n",
      "2/2 [==============================] - 0s 26ms/step - loss: 2944.5222 - accuracy: 0.6224 - val_loss: 7433.7852 - val_accuracy: 0.4800\n",
      "Epoch 39/100\n",
      "2/2 [==============================] - 0s 25ms/step - loss: 2832.1738 - accuracy: 0.6020 - val_loss: 8066.6802 - val_accuracy: 0.4000\n",
      "Epoch 40/100\n",
      "2/2 [==============================] - 0s 25ms/step - loss: 2747.1440 - accuracy: 0.6633 - val_loss: 7863.5981 - val_accuracy: 0.4000\n",
      "Epoch 41/100\n",
      "2/2 [==============================] - 0s 18ms/step - loss: 2835.7327 - accuracy: 0.6429 - val_loss: 7333.1621 - val_accuracy: 0.4800\n",
      "Epoch 42/100\n",
      "2/2 [==============================] - 0s 25ms/step - loss: 2661.6865 - accuracy: 0.6531 - val_loss: 7001.4785 - val_accuracy: 0.4800\n",
      "Epoch 43/100\n",
      "2/2 [==============================] - 0s 22ms/step - loss: 2714.2341 - accuracy: 0.6224 - val_loss: 7651.8311 - val_accuracy: 0.3600\n",
      "Epoch 44/100\n",
      "2/2 [==============================] - 0s 23ms/step - loss: 2578.2336 - accuracy: 0.6429 - val_loss: 7868.7061 - val_accuracy: 0.3200\n",
      "Epoch 45/100\n",
      "2/2 [==============================] - 0s 24ms/step - loss: 2626.6978 - accuracy: 0.6020 - val_loss: 6768.3145 - val_accuracy: 0.4800\n",
      "Epoch 46/100\n",
      "2/2 [==============================] - 0s 25ms/step - loss: 2504.2441 - accuracy: 0.6429 - val_loss: 6941.7700 - val_accuracy: 0.4400\n",
      "Epoch 47/100\n",
      "2/2 [==============================] - 0s 23ms/step - loss: 2257.8997 - accuracy: 0.6224 - val_loss: 7361.0469 - val_accuracy: 0.3600\n",
      "Epoch 48/100\n",
      "2/2 [==============================] - 0s 28ms/step - loss: 2360.7275 - accuracy: 0.6531 - val_loss: 6646.6611 - val_accuracy: 0.4800\n",
      "Epoch 49/100\n",
      "2/2 [==============================] - 0s 24ms/step - loss: 2251.1262 - accuracy: 0.6531 - val_loss: 6604.0132 - val_accuracy: 0.5200\n",
      "Epoch 50/100\n",
      "2/2 [==============================] - 0s 30ms/step - loss: 2244.6216 - accuracy: 0.6429 - val_loss: 6567.6567 - val_accuracy: 0.5200\n",
      "Epoch 51/100\n",
      "2/2 [==============================] - 0s 26ms/step - loss: 2114.8003 - accuracy: 0.6531 - val_loss: 6599.3750 - val_accuracy: 0.5200\n",
      "Epoch 52/100\n",
      "2/2 [==============================] - 0s 25ms/step - loss: 2198.8591 - accuracy: 0.6531 - val_loss: 6646.6738 - val_accuracy: 0.4000\n",
      "Epoch 53/100\n",
      "2/2 [==============================] - 0s 25ms/step - loss: 2267.6951 - accuracy: 0.6327 - val_loss: 6130.7148 - val_accuracy: 0.5200\n",
      "Epoch 54/100\n",
      "2/2 [==============================] - 0s 24ms/step - loss: 2206.1003 - accuracy: 0.5918 - val_loss: 7407.1123 - val_accuracy: 0.3600\n",
      "Epoch 55/100\n",
      "2/2 [==============================] - 0s 25ms/step - loss: 2288.5398 - accuracy: 0.6327 - val_loss: 6311.0059 - val_accuracy: 0.5200\n",
      "Epoch 56/100\n",
      "2/2 [==============================] - 0s 31ms/step - loss: 1815.1415 - accuracy: 0.6633 - val_loss: 6011.8325 - val_accuracy: 0.4800\n",
      "Epoch 57/100\n",
      "2/2 [==============================] - 0s 30ms/step - loss: 1885.3774 - accuracy: 0.5918 - val_loss: 6941.8955 - val_accuracy: 0.4000\n",
      "Epoch 58/100\n",
      "2/2 [==============================] - 0s 26ms/step - loss: 2121.1973 - accuracy: 0.6224 - val_loss: 6082.9819 - val_accuracy: 0.4000\n",
      "Epoch 59/100\n",
      "2/2 [==============================] - 0s 26ms/step - loss: 1792.3647 - accuracy: 0.6327 - val_loss: 5925.5850 - val_accuracy: 0.4000\n",
      "Epoch 60/100\n",
      "2/2 [==============================] - 0s 28ms/step - loss: 1793.9923 - accuracy: 0.6224 - val_loss: 6557.0332 - val_accuracy: 0.4400\n",
      "Epoch 61/100\n",
      "2/2 [==============================] - 0s 24ms/step - loss: 1694.6130 - accuracy: 0.6224 - val_loss: 5534.7544 - val_accuracy: 0.4800\n",
      "Epoch 62/100\n",
      "2/2 [==============================] - 0s 20ms/step - loss: 2168.4988 - accuracy: 0.6122 - val_loss: 6035.1294 - val_accuracy: 0.4400\n",
      "Epoch 63/100\n",
      "2/2 [==============================] - 0s 26ms/step - loss: 1662.6234 - accuracy: 0.6633 - val_loss: 5653.4058 - val_accuracy: 0.4400\n",
      "Epoch 64/100\n",
      "2/2 [==============================] - 0s 27ms/step - loss: 1586.2251 - accuracy: 0.6429 - val_loss: 5297.6875 - val_accuracy: 0.4800\n",
      "Epoch 65/100\n",
      "2/2 [==============================] - 0s 24ms/step - loss: 1448.1448 - accuracy: 0.6735 - val_loss: 6853.8496 - val_accuracy: 0.3600\n",
      "Epoch 66/100\n",
      "2/2 [==============================] - 0s 27ms/step - loss: 1933.9172 - accuracy: 0.5714 - val_loss: 4999.1895 - val_accuracy: 0.4800\n",
      "Epoch 67/100\n",
      "2/2 [==============================] - 0s 23ms/step - loss: 1922.5670 - accuracy: 0.6020 - val_loss: 6008.1851 - val_accuracy: 0.3600\n",
      "Epoch 68/100\n",
      "2/2 [==============================] - 0s 23ms/step - loss: 2080.6533 - accuracy: 0.6224 - val_loss: 5307.4375 - val_accuracy: 0.3600\n",
      "Epoch 69/100\n",
      "2/2 [==============================] - 0s 28ms/step - loss: 1734.0360 - accuracy: 0.6735 - val_loss: 4918.2285 - val_accuracy: 0.5200\n",
      "Epoch 70/100\n",
      "2/2 [==============================] - 0s 25ms/step - loss: 2235.8489 - accuracy: 0.6531 - val_loss: 7027.7876 - val_accuracy: 0.3600\n",
      "Epoch 71/100\n",
      "2/2 [==============================] - 0s 23ms/step - loss: 2460.2241 - accuracy: 0.6020 - val_loss: 5548.2173 - val_accuracy: 0.4000\n",
      "Epoch 72/100\n",
      "2/2 [==============================] - 0s 24ms/step - loss: 1375.7302 - accuracy: 0.6531 - val_loss: 4660.2104 - val_accuracy: 0.4800\n",
      "Epoch 73/100\n",
      "2/2 [==============================] - 0s 24ms/step - loss: 1790.1980 - accuracy: 0.6122 - val_loss: 7161.2402 - val_accuracy: 0.3200\n",
      "Epoch 74/100\n",
      "2/2 [==============================] - 0s 24ms/step - loss: 2072.8323 - accuracy: 0.6224 - val_loss: 4580.9995 - val_accuracy: 0.4800\n",
      "Epoch 75/100\n",
      "2/2 [==============================] - 0s 26ms/step - loss: 2213.0957 - accuracy: 0.5816 - val_loss: 4692.7329 - val_accuracy: 0.4000\n",
      "Epoch 76/100\n",
      "2/2 [==============================] - 0s 23ms/step - loss: 1976.2546 - accuracy: 0.5816 - val_loss: 6541.5063 - val_accuracy: 0.3200\n",
      "Epoch 77/100\n",
      "2/2 [==============================] - 0s 25ms/step - loss: 1850.5083 - accuracy: 0.6429 - val_loss: 4464.5874 - val_accuracy: 0.4800\n",
      "Epoch 78/100\n",
      "2/2 [==============================] - 0s 26ms/step - loss: 1624.0032 - accuracy: 0.6429 - val_loss: 6017.5464 - val_accuracy: 0.4000\n",
      "Epoch 79/100\n",
      "2/2 [==============================] - 0s 27ms/step - loss: 1533.6121 - accuracy: 0.6735 - val_loss: 4935.2324 - val_accuracy: 0.4000\n",
      "Epoch 80/100\n",
      "2/2 [==============================] - 0s 25ms/step - loss: 1525.0530 - accuracy: 0.6122 - val_loss: 4699.1523 - val_accuracy: 0.4800\n",
      "Epoch 81/100\n",
      "2/2 [==============================] - 0s 24ms/step - loss: 1798.6842 - accuracy: 0.6224 - val_loss: 5700.8774 - val_accuracy: 0.4400\n",
      "Epoch 82/100\n",
      "2/2 [==============================] - 0s 24ms/step - loss: 1316.8457 - accuracy: 0.6735 - val_loss: 4702.3267 - val_accuracy: 0.5200\n",
      "Epoch 83/100\n",
      "2/2 [==============================] - 0s 26ms/step - loss: 1510.0188 - accuracy: 0.6633 - val_loss: 5928.8281 - val_accuracy: 0.4000\n",
      "Epoch 84/100\n",
      "2/2 [==============================] - 0s 23ms/step - loss: 1574.2390 - accuracy: 0.6429 - val_loss: 4184.3911 - val_accuracy: 0.5200\n",
      "Epoch 85/100\n",
      "2/2 [==============================] - 0s 31ms/step - loss: 1560.7095 - accuracy: 0.6224 - val_loss: 4703.5806 - val_accuracy: 0.4000\n",
      "Epoch 86/100\n",
      "2/2 [==============================] - 0s 25ms/step - loss: 1097.9729 - accuracy: 0.6429 - val_loss: 5831.9482 - val_accuracy: 0.3200\n",
      "Epoch 87/100\n",
      "2/2 [==============================] - 0s 22ms/step - loss: 1456.1261 - accuracy: 0.6633 - val_loss: 4064.2256 - val_accuracy: 0.5600\n",
      "Epoch 88/100\n",
      "2/2 [==============================] - 0s 25ms/step - loss: 1433.6295 - accuracy: 0.6122 - val_loss: 6000.8589 - val_accuracy: 0.3200\n",
      "Epoch 89/100\n",
      "2/2 [==============================] - 0s 23ms/step - loss: 1660.7698 - accuracy: 0.6429 - val_loss: 4070.2314 - val_accuracy: 0.4800\n",
      "Epoch 90/100\n",
      "2/2 [==============================] - 0s 23ms/step - loss: 1211.8298 - accuracy: 0.6429 - val_loss: 3942.1826 - val_accuracy: 0.5600\n",
      "Epoch 91/100\n",
      "2/2 [==============================] - 0s 23ms/step - loss: 1118.5890 - accuracy: 0.6837 - val_loss: 5130.7798 - val_accuracy: 0.3600\n",
      "Epoch 92/100\n",
      "2/2 [==============================] - 0s 26ms/step - loss: 1312.6787 - accuracy: 0.6429 - val_loss: 3929.0244 - val_accuracy: 0.4800\n",
      "Epoch 93/100\n",
      "2/2 [==============================] - 0s 23ms/step - loss: 1281.0654 - accuracy: 0.6327 - val_loss: 4427.9214 - val_accuracy: 0.4800\n",
      "Epoch 94/100\n",
      "2/2 [==============================] - 0s 24ms/step - loss: 889.8454 - accuracy: 0.6735 - val_loss: 3874.9897 - val_accuracy: 0.6000\n",
      "Epoch 95/100\n",
      "2/2 [==============================] - 0s 24ms/step - loss: 1498.1141 - accuracy: 0.5918 - val_loss: 7550.7583 - val_accuracy: 0.3600\n",
      "Epoch 96/100\n",
      "2/2 [==============================] - 0s 24ms/step - loss: 2578.4207 - accuracy: 0.5612 - val_loss: 3818.2131 - val_accuracy: 0.6000\n",
      "Epoch 97/100\n",
      "2/2 [==============================] - 0s 26ms/step - loss: 2064.5481 - accuracy: 0.6122 - val_loss: 3734.8821 - val_accuracy: 0.5200\n",
      "Epoch 98/100\n",
      "2/2 [==============================] - 0s 29ms/step - loss: 1169.4603 - accuracy: 0.6531 - val_loss: 6314.8711 - val_accuracy: 0.3200\n",
      "Epoch 99/100\n",
      "2/2 [==============================] - 0s 29ms/step - loss: 1596.2921 - accuracy: 0.6531 - val_loss: 4631.1436 - val_accuracy: 0.6400\n",
      "Epoch 100/100\n",
      "2/2 [==============================] - 0s 23ms/step - loss: 2557.9587 - accuracy: 0.5714 - val_loss: 6076.6230 - val_accuracy: 0.3200\n"
     ]
    }
   ],
   "source": [
    "from keras.initializers import he_normal\n",
    "\n",
    "model = Sequential([\n",
    "    keras.layers.Dense(32, activation='relu', kernel_initializer=he_normal(), input_shape=(14,)),\n",
    "    keras.layers.Dense(32, activation='relu', kernel_initializer=he_normal()),\n",
    "    keras.layers.Dense(32, activation='relu', kernel_initializer=he_normal()),\n",
    "    keras.layers.Dense(32, activation='relu', kernel_initializer=he_normal()),\n",
    "    keras.layers.Dense(1, activation='sigmoid')\n",
    "])\n",
    "\n",
    "\n",
    "# Compile the model with a learning rate schedule\n",
    "opt = Adam(lr=1e-3)\n",
    "model.compile(loss='binary_crossentropy', optimizer=opt, metrics=['accuracy'])\n",
    "history = model.fit(x_train, y_train, epochs=100, batch_size=64, validation_data=(x_test, y_test))"
   ]
  },
  {
   "cell_type": "code",
   "execution_count": 316,
   "metadata": {},
   "outputs": [
    {
     "name": "stdout",
     "output_type": "stream",
     "text": [
      "Highest validation accuracy: 0.6399999856948853\n"
     ]
    }
   ],
   "source": [
    "print(\"Highest validation accuracy:\", max(history.history['val_accuracy']))\n"
   ]
  },
  {
   "cell_type": "code",
   "execution_count": 380,
   "metadata": {},
   "outputs": [
    {
     "name": "stdout",
     "output_type": "stream",
     "text": [
      "Average accuracy: [0.5        0.58823529 0.52941176 0.47058824 0.52941176]\n"
     ]
    }
   ],
   "source": [
    "mlp_model = MLPClassifier()\n",
    "score = cross_val_score(mlp_model, x_train, y_train, cv=5, scoring='accuracy')\n",
    "print(\"Average accuracy: \" + str(score))"
   ]
  },
  {
   "cell_type": "code",
   "execution_count": 381,
   "metadata": {},
   "outputs": [],
   "source": [
    "param_grid = {\"hidden_layer_sizes\": [(5), (10),(15)],\n",
    "              \"activation\": ['identity', 'tanh','relu'],\n",
    "              \"solver\": ['adam', 'sgd'],\n",
    "              \"alpha\": [0.0001, 0.001, 0.01]}"
   ]
  },
  {
   "cell_type": "code",
   "execution_count": 382,
   "metadata": {},
   "outputs": [
    {
     "name": "stderr",
     "output_type": "stream",
     "text": [
      "d:\\Anaconda\\envs\\tf_gpucheck\\lib\\site-packages\\skopt\\optimizer\\optimizer.py:449: UserWarning: The objective has been evaluated at this point before.\n",
      "  warnings.warn(\"The objective has been evaluated \"\n",
      "d:\\Anaconda\\envs\\tf_gpucheck\\lib\\site-packages\\skopt\\optimizer\\optimizer.py:449: UserWarning: The objective has been evaluated at this point before.\n",
      "  warnings.warn(\"The objective has been evaluated \"\n",
      "d:\\Anaconda\\envs\\tf_gpucheck\\lib\\site-packages\\skopt\\optimizer\\optimizer.py:449: UserWarning: The objective has been evaluated at this point before.\n",
      "  warnings.warn(\"The objective has been evaluated \"\n",
      "d:\\Anaconda\\envs\\tf_gpucheck\\lib\\site-packages\\skopt\\optimizer\\optimizer.py:449: UserWarning: The objective has been evaluated at this point before.\n",
      "  warnings.warn(\"The objective has been evaluated \"\n",
      "d:\\Anaconda\\envs\\tf_gpucheck\\lib\\site-packages\\skopt\\optimizer\\optimizer.py:449: UserWarning: The objective has been evaluated at this point before.\n",
      "  warnings.warn(\"The objective has been evaluated \"\n",
      "d:\\Anaconda\\envs\\tf_gpucheck\\lib\\site-packages\\skopt\\optimizer\\optimizer.py:449: UserWarning: The objective has been evaluated at this point before.\n",
      "  warnings.warn(\"The objective has been evaluated \"\n",
      "d:\\Anaconda\\envs\\tf_gpucheck\\lib\\site-packages\\skopt\\optimizer\\optimizer.py:449: UserWarning: The objective has been evaluated at this point before.\n",
      "  warnings.warn(\"The objective has been evaluated \"\n",
      "d:\\Anaconda\\envs\\tf_gpucheck\\lib\\site-packages\\skopt\\optimizer\\optimizer.py:449: UserWarning: The objective has been evaluated at this point before.\n",
      "  warnings.warn(\"The objective has been evaluated \"\n",
      "d:\\Anaconda\\envs\\tf_gpucheck\\lib\\site-packages\\skopt\\optimizer\\optimizer.py:449: UserWarning: The objective has been evaluated at this point before.\n",
      "  warnings.warn(\"The objective has been evaluated \"\n",
      "d:\\Anaconda\\envs\\tf_gpucheck\\lib\\site-packages\\skopt\\optimizer\\optimizer.py:449: UserWarning: The objective has been evaluated at this point before.\n",
      "  warnings.warn(\"The objective has been evaluated \"\n",
      "d:\\Anaconda\\envs\\tf_gpucheck\\lib\\site-packages\\skopt\\optimizer\\optimizer.py:449: UserWarning: The objective has been evaluated at this point before.\n",
      "  warnings.warn(\"The objective has been evaluated \"\n",
      "d:\\Anaconda\\envs\\tf_gpucheck\\lib\\site-packages\\skopt\\optimizer\\optimizer.py:449: UserWarning: The objective has been evaluated at this point before.\n",
      "  warnings.warn(\"The objective has been evaluated \"\n",
      "d:\\Anaconda\\envs\\tf_gpucheck\\lib\\site-packages\\skopt\\optimizer\\optimizer.py:449: UserWarning: The objective has been evaluated at this point before.\n",
      "  warnings.warn(\"The objective has been evaluated \"\n",
      "d:\\Anaconda\\envs\\tf_gpucheck\\lib\\site-packages\\skopt\\optimizer\\optimizer.py:449: UserWarning: The objective has been evaluated at this point before.\n",
      "  warnings.warn(\"The objective has been evaluated \"\n"
     ]
    },
    {
     "name": "stdout",
     "output_type": "stream",
     "text": [
      "Best Hyperparameters found: OrderedDict([('activation', 'tanh'), ('alpha', 0.01), ('hidden_layer_sizes', 5), ('solver', 'adam')])\n",
      "Cross Validation accuracy: 0.5\n"
     ]
    },
    {
     "name": "stderr",
     "output_type": "stream",
     "text": [
      "d:\\Anaconda\\envs\\tf_gpucheck\\lib\\site-packages\\sklearn\\neural_network\\_multilayer_perceptron.py:686: ConvergenceWarning: Stochastic Optimizer: Maximum iterations (200) reached and the optimization hasn't converged yet.\n",
      "  warnings.warn(\n"
     ]
    }
   ],
   "source": [
    "splits = KFold(n_splits=5)\n",
    "\n",
    "grid = BayesSearchCV(mlp_model, param_grid, cv=splits, n_jobs=-1).fit(x_train, y_train)\n",
    "\n",
    "# Select the best estimators\n",
    "mlp_model_tuned=grid.best_estimator_\n",
    "\n",
    "# Output the results\n",
    "print(\"Best Hyperparameters found: \" + str(grid.best_params_))\n",
    "print(\"Cross Validation accuracy: \" + str(mlp_model_tuned.score(x_train,y_train)))"
   ]
  }
 ],
 "metadata": {
  "kernelspec": {
   "display_name": "tf_gpucheck",
   "language": "python",
   "name": "python3"
  },
  "language_info": {
   "codemirror_mode": {
    "name": "ipython",
    "version": 3
   },
   "file_extension": ".py",
   "mimetype": "text/x-python",
   "name": "python",
   "nbconvert_exporter": "python",
   "pygments_lexer": "ipython3",
   "version": "3.9.16"
  },
  "orig_nbformat": 4,
  "vscode": {
   "interpreter": {
    "hash": "22ad5f5a0f5a33ea50a6545ffa69403ade472df095db39744b5a1476c178855e"
   }
  }
 },
 "nbformat": 4,
 "nbformat_minor": 2
}
